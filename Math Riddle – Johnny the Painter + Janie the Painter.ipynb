{
 "cells": [
  {
   "cell_type": "markdown",
   "metadata": {},
   "source": [
    "# Math Riddle: Johnny the (Old Fashioned) Painter\n",
    "\n",
    "<b>Johnny has been hired to paint the numbers 1 through 100.</b><br>\n",
    "<i> Johnny is old fashioned because he paints numbers below the power of 2 <b>and</b> because we'll be solving using a flat list iterator with low generalizability.</i><br>\n",
    "<b>   How many times will he paint the letter \"2\"?</b><br>\n",
    "\n",
    "<hr>\n",
    "<br>\n",
    "<center> <h3> Johnny!</h3> </center>\n",
    "<br>\n",
    "<img style=\"-webkit-user-select: none;cursor: zoom-in;\" src=\"https://image1.masterfile.com/getImage/846-08140099em-1930s-1940s-man-in-white-overalls-by-step-ladder-zinc-pail-bucket.jpg\" width=\"360\" height=\"283\">\n",
    "<br>\n",
    "<center> <i> He's a great painter and has a simple yet fullfilling life.</i> </center>\n",
    "<br>\n"
   ]
  },
  {
   "cell_type": "markdown",
   "metadata": {},
   "source": [
    "**We'll solve using list comprehensions!**\n",
    "\n",
    "   1. Create a list of numbers through 100.\n",
    "   \n",
    "   2. Flatten that list to strings of each digit.\n",
    "   \n",
    "   3. Define a function that iterates over your list and counts the number\n",
    "   \n",
    "   4. Ask for user input and push out a result!\n",
    "   "
   ]
  },
  {
   "cell_type": "code",
   "execution_count": 53,
   "metadata": {},
   "outputs": [
    {
     "name": "stdout",
     "output_type": "stream",
     "text": [
      "Your list \"z\" has a length of: 100\n",
      "\n",
      "['0', '1', '2', '3', '4', '5', '6', '7', '8', '9', '10', '11', '12', '13', '14', '15', '16', '17', '18', '19', '20', '21', '22', '23', '24', '25', '26', '27', '28', '29', '30', '31', '32', '33', '34', '35', '36', '37', '38', '39', '40', '41', '42', '43', '44', '45', '46', '47', '48', '49', '50', '51', '52', '53', '54', '55', '56', '57', '58', '59', '60', '61', '62', '63', '64', '65', '66', '67', '68', '69', '70', '71', '72', '73', '74', '75', '76', '77', '78', '79', '80', '81', '82', '83', '84', '85', '86', '87', '88', '89', '90', '91', '92', '93', '94', '95', '96', '97', '98', '99']\n",
      "\n",
      "\n",
      "Your flat list \"z_flat\" has a length of: 190\n",
      "\n",
      "['0', '1', '2', '3', '4', '5', '6', '7', '8', '9', '1', '0', '1', '1', '1', '2', '1', '3', '1', '4', '1', '5', '1', '6', '1', '7', '1', '8', '1', '9', '2', '0', '2', '1', '2', '2', '2', '3', '2', '4', '2', '5', '2', '6', '2', '7', '2', '8', '2', '9', '3', '0', '3', '1', '3', '2', '3', '3', '3', '4', '3', '5', '3', '6', '3', '7', '3', '8', '3', '9', '4', '0', '4', '1', '4', '2', '4', '3', '4', '4', '4', '5', '4', '6', '4', '7', '4', '8', '4', '9', '5', '0', '5', '1', '5', '2', '5', '3', '5', '4', '5', '5', '5', '6', '5', '7', '5', '8', '5', '9', '6', '0', '6', '1', '6', '2', '6', '3', '6', '4', '6', '5', '6', '6', '6', '7', '6', '8', '6', '9', '7', '0', '7', '1', '7', '2', '7', '3', '7', '4', '7', '5', '7', '6', '7', '7', '7', '8', '7', '9', '8', '0', '8', '1', '8', '2', '8', '3', '8', '4', '8', '5', '8', '6', '8', '7', '8', '8', '8', '9', '9', '0', '9', '1', '9', '2', '9', '3', '9', '4', '9', '5', '9', '6', '9', '7', '9', '8', '9', '9']\n",
      "\n",
      "\n",
      "Your function \"item counter\" has been added successfully.\n",
      "\n",
      "\n",
      "Your function \"item counter\" has been added successfully.\n"
     ]
    }
   ],
   "source": [
    "# Step 1 – Create a list of numbers\n",
    "\n",
    "z=[]\n",
    "for i in range(100):\n",
    "    z.append(str(i))\n",
    "    \n",
    "# Print your stuff:\n",
    "print('Your list \"z\" has a length of: {0}\\n'.format(len(z)))\n",
    "print(z)\n",
    "\n",
    "####################################\n",
    "\n",
    "# Step 2 – Flatten that list.\n",
    "\n",
    "z_flat = [y for x in z for y in x]\n",
    "\n",
    "# Print your stuff:\n",
    "print('\\n\\nYour flat list \"z_flat\" has a length of: {0}\\n'.format(len(z_flat)))\n",
    "print(z_flat)\n",
    "\n",
    "####################################\n",
    "\n",
    "# Step 3 – Define a function that iterates and counts\n",
    "\n",
    "def item_counter(string_to_look_for = '2', list_to_look_in = z_flat):\n",
    "    item_count = 0\n",
    "    for item in list_to_look_in:\n",
    "        if item == string_to_look_for:\n",
    "            item_count +=1\n",
    "    return item_count\n",
    "\n",
    "# Print your stuff:\n",
    "print('\\n\\nYour function \"item counter\" has been added successfully.')\n",
    "\n",
    "def item_counter_2(string_to_look_for = '2', list_to_look_in = z):\n",
    "    item_count = 0    \n",
    "    for item in list_to_look_in:\n",
    "        if string_to_look_for in item:\n",
    "            item_count +=1\n",
    "    return item_count\n",
    "item_counter_2()\n",
    "\n",
    "# Print your stuff:\n",
    "print('\\n\\nYour function \"item counter\" has been added successfully.')\n"
   ]
  },
  {
   "cell_type": "code",
   "execution_count": 54,
   "metadata": {},
   "outputs": [
    {
     "name": "stdout",
     "output_type": "stream",
     "text": [
      "Choose a number you want to count in John's painting job:\n",
      "9\n",
      "\n",
      "Johnny paints 9 a total of 20 times.\n",
      "\n"
     ]
    }
   ],
   "source": [
    "# Step 4 – Ask for user input and execute\n",
    "\n",
    "num_look_for = input('Choose a number you want to count in John\\'s painting job:\\n')\n",
    "if int(num_look_for) >9:\n",
    "    list_use = z\n",
    "else:\n",
    "    list_use = z_flat\n",
    "    \n",
    "    \n",
    "####################################\n",
    "\n",
    "# Print your stuff: (The results)\n",
    "\n",
    "print('\\nJohnny paints {0} a total of {1} times.\\n'.format(num_look_for,\n",
    "                                                       item_counter(num_look_for,list_use)))"
   ]
  },
  {
   "cell_type": "markdown",
   "metadata": {},
   "source": [
    "# How about a faster way to do it:"
   ]
  },
  {
   "cell_type": "code",
   "execution_count": 56,
   "metadata": {},
   "outputs": [
    {
     "name": "stdout",
     "output_type": "stream",
     "text": [
      "Choose a number you want to count in Johnny's painting job:\n",
      "9\n",
      "\n",
      "Johnny paints 9 a total of 20 times.\n",
      "\n"
     ]
    }
   ],
   "source": [
    "# Step 4 – Ask for user input and execute\n",
    "\n",
    "num_look_for = input('Choose a number you want to count in Johnny\\'s painting job:\\n')\n",
    "if int(num_look_for) >9:\n",
    "    count_value = 3\n",
    "else:\n",
    "    count_value = ''.join(str(i) for i in range(1,101)).count(num_look_for)\n",
    "    \n",
    "    \n",
    "####################################\n",
    "\n",
    "# Print your stuff: (The results)\n",
    "\n",
    "print('\\nJohnny paints {0} a total of {1} times.\\n'.format(num_look_for,count_value))\n"
   ]
  },
  {
   "cell_type": "markdown",
   "metadata": {},
   "source": [
    "# Janie\n",
    "<b>Janie has been hired to paint the numbers 1 through 1,000,000.</b><br>\n",
    "    <i> She's got a very hard job, especially compared to Johnny from the good old days. But Janie loves what she does. Except, she for counting how many times she'll paint a certain number! This part of the job frsutrates her to no end. Let's help her?</i><br>\n",
    "   <b>How many times will she paint \"19\"?</b><br>\n",
    "\n",
    "<hr>\n",
    "\n",
    "<img style=\"-webkit-user-select: none;cursor: zoom-in;\" src=\"https://media.istockphoto.com/photos/paintercollection-in-my-gallery-picture-id524298601?k=6&amp;m=524298601&amp;s=612x612&amp;w=0&amp;h=8ltm2aOOynE9nZ1_o_LmLqUSyaojt0DKlfVXbPIrTXI=\" width=\"360\" height=\"456\">\n",
    "<br>\n",
    "<center> <i> She's been painting for a while now... <br>\n",
    "    It's not the paint which wears her down... it's the counting.<br>\n",
    "    Fortunately, our programming skills are going to save her! </i> </center>\n",
    "<br>"
   ]
  },
  {
   "cell_type": "code",
   "execution_count": 57,
   "metadata": {},
   "outputs": [],
   "source": [
    "def fast_item_counter(string_to_look_for = '19',\n",
    "                      list_to_look_in = range(1,1000001)):\n",
    "    item_count = 0 \n",
    "    # for every number in the list:\n",
    "    for i in list_to_look_in:\n",
    "        # if '19' is in that nunber:\n",
    "        if string_to_look_for in str(i):\n",
    "            # add to my count...\n",
    "            item_count +=1 \n",
    "            # Take the numbers after the instance of 19\n",
    "            # For example 1192 becomes 2)\n",
    "            item_split = str(i).split(string_to_look_for,1)[1]\n",
    "            # While '19' is in the split string:\n",
    "            while string_to_look_for in item_split: \n",
    "                print(i) # print that number...\n",
    "                print(item_split) # print the split too...\n",
    "                if string_to_look_for in item_split:\n",
    "                    # add to my count\n",
    "                    item_count +=1\n",
    "                    # Then split again!\n",
    "                    item_split = item_split.split(string_to_look_for,1)[1]\n",
    "                \n",
    "    return item_count"
   ]
  },
  {
   "cell_type": "markdown",
   "metadata": {},
   "source": [
    "<b><i>My numbers get split accordingly:</b></i> <br><br>\n",
    "**1919:** 19<br>\n",
    "**11919:** 19 <br>\n",
    "**19019:** 019 <br>\n",
    "**19119:** 119 <br>\n",
    "**19190:** 190 <br>\n",
    "**19191:** 191 <br>\n",
    "**19192:** 192"
   ]
  },
  {
   "cell_type": "markdown",
   "metadata": {},
   "source": [
    "### We want to test out our function:\n",
    "\n",
    "We'll cycle through the two numbers: 191,918 and 191,919.\n",
    "\n",
    "* Our function should split the first number into: 1918 <br>\n",
    "* Our function should split the second number into: 1919 and then 19<br>\n",
    "* **Our total count should be: 5**\n"
   ]
  },
  {
   "cell_type": "code",
   "execution_count": 32,
   "metadata": {},
   "outputs": [
    {
     "name": "stdout",
     "output_type": "stream",
     "text": [
      "191918\n",
      "1918\n",
      "191919\n",
      "1919\n",
      "191919\n",
      "19\n",
      "\n",
      "The number \"19\" was found a total of 5 times\n"
     ]
    }
   ],
   "source": [
    "z = fast_item_counter(num_look_for,range(191918,191920))\n",
    "print('\\nThe number \"19\" was found a total of {0} times'.format(z))"
   ]
  },
  {
   "cell_type": "markdown",
   "metadata": {},
   "source": [
    "Indeed, the function does as it should:\n",
    "* 191,918 was split once and counted twice\n",
    "* 191,919 was split twice and counted three times\n",
    "* **Total result was 5!**\n",
    "\n"
   ]
  },
  {
   "cell_type": "markdown",
   "metadata": {},
   "source": [
    "## Now that the testing is over, remove any \"print\" fields unnecessary to core execution of the function:"
   ]
  },
  {
   "cell_type": "code",
   "execution_count": 58,
   "metadata": {},
   "outputs": [],
   "source": [
    "def fast_item_counter(string_to_look_for = '19',\n",
    "                      list_to_look_in = range(1,1000001)):\n",
    "    item_count = 0 \n",
    "    # for every number in the list:\n",
    "    for i in list_to_look_in:\n",
    "        # if '19' is in that nunber:\n",
    "        if string_to_look_for in str(i):\n",
    "            # add to my count...\n",
    "            item_count +=1 \n",
    "            # Take the numbers after the instance of 19\n",
    "            # For example 1192 becomes 2)\n",
    "            item_split = str(i).split(string_to_look_for,1)[1]\n",
    "            # While '19' is in the split string:\n",
    "            while string_to_look_for in item_split: \n",
    "                # No printing, only good hard results\n",
    "                if string_to_look_for in item_split:\n",
    "                    # add to my count\n",
    "                    item_count +=1\n",
    "                    # Then split again!\n",
    "                    item_split = item_split.split(string_to_look_for,1)[1]\n",
    "                \n",
    "    return item_count"
   ]
  },
  {
   "cell_type": "code",
   "execution_count": 51,
   "metadata": {},
   "outputs": [
    {
     "name": "stdout",
     "output_type": "stream",
     "text": [
      "Choose a number you want to count in Janie's painting job:\n",
      "19\n",
      "\n",
      "Janie paints 19 a total of 50000 times.\n",
      "When she paints 1 to 1000000.\n"
     ]
    }
   ],
   "source": [
    "num_look_for = input('Choose a number you want to count in Janie\\'s painting job:\\n')\n",
    "#range_to_look_in = [int(x) for x in input('Choose the range you want to use:\\n').split(',')]\n",
    "# range(range_to_look_in[0],range_to_look_in[1]\n",
    "range_to_use = range(1,1000001)\n",
    "count_value = fast_item_counter(num_look_for,range_to_use)\n",
    "    \n",
    "    \n",
    "####################################\n",
    "\n",
    "# Print your stuff: (The results)\n",
    "print('\\nJanie paints {0} a total of {1} times.\\nWhen she paints {2} to {3}.'.format(num_look_for,count_value,range_to_use[0], range_to_use[-1]))\n"
   ]
  }
 ],
 "metadata": {
  "kernelspec": {
   "display_name": "Python 3",
   "language": "python",
   "name": "python3"
  },
  "language_info": {
   "codemirror_mode": {
    "name": "ipython",
    "version": 3
   },
   "file_extension": ".py",
   "mimetype": "text/x-python",
   "name": "python",
   "nbconvert_exporter": "python",
   "pygments_lexer": "ipython3",
   "version": "3.6.5"
  }
 },
 "nbformat": 4,
 "nbformat_minor": 2
}

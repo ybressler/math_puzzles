{
 "cells": [
  {
   "cell_type": "markdown",
   "metadata": {},
   "source": [
    "# Math Riddle: Johnny the (Old Fashioned) Painter\n",
    "\n",
    "<b>Johnny has been hired to paint the numbers 1 through 100.</b><br>\n",
    "<i> Johnny is old fashioned because he paints numbers below the power of 2 <b>and</b> because we'll be solving using a flat list iterator with low generalizability.</i><br>\n",
    "<b>   How many times will he paint the letter \"2\"?</b><br>"
   ]
  },
  {
   "cell_type": "markdown",
   "metadata": {},
   "source": [
    "<br>\n",
    "<center> <h3> Johnny!</h3> </center>\n",
    "<br>\n",
    "<img style=\"-webkit-user-select: none;cursor: zoom-in;\" src=\"https://image1.masterfile.com/getImage/846-08140099em-1930s-1940s-man-in-white-overalls-by-step-ladder-zinc-pail-bucket.jpg\" width=\"360\" height=\"283\">\n",
    "<br>\n",
    "<center> <i> He's a great painter and has a simple yet fullfilling life.</i> </center>\n",
    "<br>\n",
    "\n",
    "<b>We'll solve using list comprehensions!</b>\n",
    "\n",
    "<li>1. Create a list of numbers through 100.</li>\n",
    "<li>2. Flatten that list to strings of each digit.</li>\n",
    "<li>3. Define a function that iterates over your list and counts the number</li>\n",
    "<li>4. Ask for user input and push out a result!</li>"
   ]
  },
  {
   "cell_type": "code",
   "execution_count": 1,
   "metadata": {},
   "outputs": [
    {
     "name": "stdout",
     "output_type": "stream",
     "text": [
      "Your list \"z\" has a length of: 100\n",
      "\n",
      "['0', '1', '2', '3', '4', '5', '6', '7', '8', '9', '10', '11', '12', '13', '14', '15', '16', '17', '18', '19', '20', '21', '22', '23', '24', '25', '26', '27', '28', '29', '30', '31', '32', '33', '34', '35', '36', '37', '38', '39', '40', '41', '42', '43', '44', '45', '46', '47', '48', '49', '50', '51', '52', '53', '54', '55', '56', '57', '58', '59', '60', '61', '62', '63', '64', '65', '66', '67', '68', '69', '70', '71', '72', '73', '74', '75', '76', '77', '78', '79', '80', '81', '82', '83', '84', '85', '86', '87', '88', '89', '90', '91', '92', '93', '94', '95', '96', '97', '98', '99']\n",
      "\n",
      "\n",
      "Your flat list \"z_flat\" has a length of: 190\n",
      "\n",
      "['0', '1', '2', '3', '4', '5', '6', '7', '8', '9', '1', '0', '1', '1', '1', '2', '1', '3', '1', '4', '1', '5', '1', '6', '1', '7', '1', '8', '1', '9', '2', '0', '2', '1', '2', '2', '2', '3', '2', '4', '2', '5', '2', '6', '2', '7', '2', '8', '2', '9', '3', '0', '3', '1', '3', '2', '3', '3', '3', '4', '3', '5', '3', '6', '3', '7', '3', '8', '3', '9', '4', '0', '4', '1', '4', '2', '4', '3', '4', '4', '4', '5', '4', '6', '4', '7', '4', '8', '4', '9', '5', '0', '5', '1', '5', '2', '5', '3', '5', '4', '5', '5', '5', '6', '5', '7', '5', '8', '5', '9', '6', '0', '6', '1', '6', '2', '6', '3', '6', '4', '6', '5', '6', '6', '6', '7', '6', '8', '6', '9', '7', '0', '7', '1', '7', '2', '7', '3', '7', '4', '7', '5', '7', '6', '7', '7', '7', '8', '7', '9', '8', '0', '8', '1', '8', '2', '8', '3', '8', '4', '8', '5', '8', '6', '8', '7', '8', '8', '8', '9', '9', '0', '9', '1', '9', '2', '9', '3', '9', '4', '9', '5', '9', '6', '9', '7', '9', '8', '9', '9']\n",
      "\n",
      "\n",
      "Your function \"item counter\" has been added successfully.\n",
      "\n",
      "\n",
      "Your function \"item counter\" has been added successfully.\n"
     ]
    }
   ],
   "source": [
    "# Step 1 – Create a list of numbers\n",
    "\n",
    "z=[]\n",
    "for i in range(100):\n",
    "    z.append(str(i))\n",
    "    \n",
    "# Print your stuff:\n",
    "print('Your list \"z\" has a length of: {0}\\n'.format(len(z)))\n",
    "print(z)\n",
    "\n",
    "####################################\n",
    "\n",
    "# Step 2 – Flatten that list.\n",
    "\n",
    "z_flat = [y for x in z for y in x]\n",
    "\n",
    "# Print your stuff:\n",
    "print('\\n\\nYour flat list \"z_flat\" has a length of: {0}\\n'.format(len(z_flat)))\n",
    "print(z_flat)\n",
    "\n",
    "####################################\n",
    "\n",
    "# Step 3 – Define a function that iterates and counts\n",
    "\n",
    "def item_counter(string_to_look_for = '2', list_to_look_in = z_flat):\n",
    "    item_count = 0\n",
    "    for item in list_to_look_in:\n",
    "        if item == string_to_look_for:\n",
    "            item_count +=1\n",
    "    return item_count\n",
    "\n",
    "# Print your stuff:\n",
    "print('\\n\\nYour function \"item counter\" has been added successfully.')\n",
    "\n",
    "def item_counter_2(string_to_look_for = '2', list_to_look_in = z):\n",
    "    item_count = 0    \n",
    "    for item in list_to_look_in:\n",
    "        if string_to_look_for in item:\n",
    "            item_count +=1\n",
    "    return item_count\n",
    "item_counter_2()\n",
    "\n",
    "# Print your stuff:\n",
    "print('\\n\\nYour function \"item counter\" has been added successfully.')\n"
   ]
  },
  {
   "cell_type": "code",
   "execution_count": 2,
   "metadata": {},
   "outputs": [
    {
     "name": "stdout",
     "output_type": "stream",
     "text": [
      "Choose a number you want to count in John's painting job:\n",
      "4\n",
      "\n",
      "Johnny paints 4 a total of 20 times.\n",
      "\n"
     ]
    }
   ],
   "source": [
    "# Step 4 – Ask for user input and execute\n",
    "\n",
    "num_look_for = input('Choose a number you want to count in John\\'s painting job:\\n')\n",
    "if int(num_look_for) >9:\n",
    "    list_use = z\n",
    "else:\n",
    "    list_use = z_flat\n",
    "    \n",
    "    \n",
    "####################################\n",
    "\n",
    "# Print your stuff: (The results)\n",
    "\n",
    "print('\\nJohnny paints {0} a total of {1} times.\\n'.format(num_look_for,\n",
    "                                                       item_counter(num_look_for,list_use)))"
   ]
  },
  {
   "cell_type": "markdown",
   "metadata": {},
   "source": [
    "# How about a faster way to do it:"
   ]
  },
  {
   "cell_type": "code",
   "execution_count": 3,
   "metadata": {},
   "outputs": [
    {
     "name": "stdout",
     "output_type": "stream",
     "text": [
      "Choose a number you want to count in Johnny's painting job:\n",
      "4\n",
      "\n",
      "Johnny paints 4 a total of 20 times.\n",
      "\n"
     ]
    }
   ],
   "source": [
    "# Step 4 – Ask for user input and execute\n",
    "\n",
    "num_look_for = input('Choose a number you want to count in Johnny\\'s painting job:\\n')\n",
    "if int(num_look_for) >9:\n",
    "    count_value = 3\n",
    "else:\n",
    "    count_value = ''.join(str(i) for i in range(1,101)).count(num_look_for)\n",
    "    \n",
    "    \n",
    "    \n",
    "####################################\n",
    "\n",
    "# Print your stuff: (The results)\n",
    "\n",
    "print('\\nJohnny paints {0} a total of {1} times.\\n'.format(num_look_for,count_value))\n"
   ]
  },
  {
   "cell_type": "markdown",
   "metadata": {},
   "source": [
    "# Janie\n",
    "<b>Janie has been hired to paint the numbers 1 through 1,000,000.</b><br>\n",
    "    <i> She's got a very hard job, especially compared to Johnny from the good old days. But Janie loves what she does. Except, she for counting how many times she'll paint a certain number! This part of the job frsutrates her to no end. Let's help her?</i><br>\n",
    "   <b>How many times will she paint \"19\"?</b><br>\n",
    "\n",
    "<hr>\n",
    "\n",
    "<img style=\"-webkit-user-select: none;cursor: zoom-in;\" src=\"https://media.istockphoto.com/photos/paintercollection-in-my-gallery-picture-id524298601?k=6&amp;m=524298601&amp;s=612x612&amp;w=0&amp;h=8ltm2aOOynE9nZ1_o_LmLqUSyaojt0DKlfVXbPIrTXI=\" width=\"360\" height=\"456\">\n",
    "<br>\n",
    "<center> <i> She's been painting for a while now... <br>\n",
    "    It's not the paint which wears her down... it's the counting.<br>\n",
    "    Fortunately, our programming skills are going to save her! </i> </center>\n",
    "<br>"
   ]
  },
  {
   "cell_type": "markdown",
   "metadata": {},
   "source": [
    "## Create the function"
   ]
  },
  {
   "cell_type": "code",
   "execution_count": 4,
   "metadata": {
    "scrolled": true
   },
   "outputs": [
    {
     "name": "stdout",
     "output_type": "stream",
     "text": [
      "1919\n",
      "19\n",
      "11919\n",
      "19\n",
      "19019\n",
      "019\n",
      "19119\n",
      "119\n",
      "19190\n",
      "190\n",
      "19191\n",
      "191\n",
      "19192\n",
      "192\n",
      "19193\n",
      "193\n",
      "19194\n",
      "194\n",
      "19195\n",
      "195\n",
      "19196\n",
      "196\n",
      "19197\n",
      "197\n",
      "19198\n",
      "198\n",
      "19199\n",
      "199\n",
      "19219\n",
      "219\n",
      "19319\n",
      "319\n",
      "19419\n",
      "419\n",
      "19519\n",
      "519\n",
      "19619\n",
      "619\n",
      "19719\n",
      "719\n",
      "19819\n",
      "819\n",
      "19919\n",
      "919\n",
      "21919\n",
      "19\n",
      "31919\n",
      "19\n",
      "41919\n",
      "19\n",
      "51919\n",
      "19\n",
      "61919\n",
      "19\n",
      "71919\n",
      "19\n",
      "81919\n",
      "19\n",
      "91919\n",
      "19\n",
      "101919\n",
      "19\n",
      "111919\n",
      "19\n",
      "119019\n",
      "019\n",
      "119119\n",
      "119\n",
      "119190\n",
      "190\n",
      "119191\n",
      "191\n",
      "119192\n",
      "192\n",
      "119193\n",
      "193\n",
      "119194\n",
      "194\n",
      "119195\n",
      "195\n",
      "119196\n",
      "196\n",
      "119197\n",
      "197\n",
      "119198\n",
      "198\n",
      "119199\n",
      "199\n",
      "119219\n",
      "219\n",
      "119319\n",
      "319\n",
      "119419\n",
      "419\n",
      "119519\n",
      "519\n",
      "119619\n",
      "619\n",
      "119719\n",
      "719\n",
      "119819\n",
      "819\n",
      "119919\n",
      "919\n",
      "121919\n",
      "19\n",
      "131919\n",
      "19\n",
      "141919\n",
      "19\n",
      "151919\n",
      "19\n",
      "161919\n",
      "19\n",
      "171919\n",
      "19\n",
      "181919\n",
      "19\n",
      "190019\n",
      "0019\n",
      "190119\n",
      "0119\n",
      "190190\n",
      "0190\n",
      "190191\n",
      "0191\n",
      "190192\n",
      "0192\n",
      "190193\n",
      "0193\n",
      "190194\n",
      "0194\n",
      "190195\n",
      "0195\n",
      "190196\n",
      "0196\n",
      "190197\n",
      "0197\n",
      "190198\n",
      "0198\n",
      "190199\n",
      "0199\n",
      "190219\n",
      "0219\n",
      "190319\n",
      "0319\n",
      "190419\n",
      "0419\n",
      "190519\n",
      "0519\n",
      "190619\n",
      "0619\n",
      "190719\n",
      "0719\n",
      "190819\n",
      "0819\n",
      "190919\n",
      "0919\n",
      "191019\n",
      "1019\n",
      "191119\n",
      "1119\n",
      "191190\n",
      "1190\n",
      "191191\n",
      "1191\n",
      "191192\n",
      "1192\n",
      "191193\n",
      "1193\n",
      "191194\n",
      "1194\n",
      "191195\n",
      "1195\n",
      "191196\n",
      "1196\n",
      "191197\n",
      "1197\n",
      "191198\n",
      "1198\n",
      "191199\n",
      "1199\n",
      "191219\n",
      "1219\n",
      "191319\n",
      "1319\n",
      "191419\n",
      "1419\n",
      "191519\n",
      "1519\n",
      "191619\n",
      "1619\n",
      "191719\n",
      "1719\n",
      "191819\n",
      "1819\n",
      "191900\n",
      "1900\n",
      "191901\n",
      "1901\n",
      "191902\n",
      "1902\n",
      "191903\n",
      "1903\n",
      "191904\n",
      "1904\n",
      "191905\n",
      "1905\n",
      "191906\n",
      "1906\n",
      "191907\n",
      "1907\n",
      "191908\n",
      "1908\n",
      "191909\n",
      "1909\n",
      "191910\n",
      "1910\n",
      "191911\n",
      "1911\n",
      "191912\n",
      "1912\n",
      "191913\n",
      "1913\n",
      "191914\n",
      "1914\n",
      "191915\n",
      "1915\n",
      "191916\n",
      "1916\n",
      "191917\n",
      "1917\n",
      "191918\n",
      "1918\n",
      "191919\n",
      "1919\n",
      "191919\n",
      "19\n",
      "191920\n",
      "1920\n",
      "191921\n",
      "1921\n",
      "191922\n",
      "1922\n",
      "191923\n",
      "1923\n",
      "191924\n",
      "1924\n",
      "191925\n",
      "1925\n",
      "191926\n",
      "1926\n",
      "191927\n",
      "1927\n",
      "191928\n",
      "1928\n",
      "191929\n",
      "1929\n",
      "191930\n",
      "1930\n",
      "191931\n",
      "1931\n",
      "191932\n",
      "1932\n",
      "191933\n",
      "1933\n",
      "191934\n",
      "1934\n",
      "191935\n",
      "1935\n",
      "191936\n",
      "1936\n",
      "191937\n",
      "1937\n",
      "191938\n",
      "1938\n",
      "191939\n",
      "1939\n",
      "191940\n",
      "1940\n",
      "191941\n",
      "1941\n",
      "191942\n",
      "1942\n",
      "191943\n",
      "1943\n",
      "191944\n",
      "1944\n",
      "191945\n",
      "1945\n",
      "191946\n",
      "1946\n",
      "191947\n",
      "1947\n",
      "191948\n",
      "1948\n",
      "191949\n",
      "1949\n",
      "191950\n",
      "1950\n",
      "191951\n",
      "1951\n",
      "191952\n",
      "1952\n",
      "191953\n",
      "1953\n",
      "191954\n",
      "1954\n",
      "191955\n",
      "1955\n",
      "191956\n",
      "1956\n",
      "191957\n",
      "1957\n",
      "191958\n",
      "1958\n",
      "191959\n",
      "1959\n",
      "191960\n",
      "1960\n",
      "191961\n",
      "1961\n",
      "191962\n",
      "1962\n",
      "191963\n",
      "1963\n",
      "191964\n",
      "1964\n",
      "191965\n",
      "1965\n",
      "191966\n",
      "1966\n",
      "191967\n",
      "1967\n",
      "191968\n",
      "1968\n",
      "191969\n",
      "1969\n",
      "191970\n",
      "1970\n",
      "191971\n",
      "1971\n",
      "191972\n",
      "1972\n",
      "191973\n",
      "1973\n",
      "191974\n",
      "1974\n",
      "191975\n",
      "1975\n",
      "191976\n",
      "1976\n",
      "191977\n",
      "1977\n",
      "191978\n",
      "1978\n",
      "191979\n",
      "1979\n",
      "191980\n",
      "1980\n",
      "191981\n",
      "1981\n",
      "191982\n",
      "1982\n",
      "191983\n",
      "1983\n",
      "191984\n",
      "1984\n",
      "191985\n",
      "1985\n",
      "191986\n",
      "1986\n",
      "191987\n",
      "1987\n",
      "191988\n",
      "1988\n",
      "191989\n",
      "1989\n",
      "191990\n",
      "1990\n",
      "191991\n",
      "1991\n",
      "191992\n",
      "1992\n",
      "191993\n",
      "1993\n",
      "191994\n",
      "1994\n",
      "191995\n",
      "1995\n",
      "191996\n",
      "1996\n",
      "191997\n",
      "1997\n",
      "191998\n",
      "1998\n",
      "191999\n",
      "1999\n",
      "192019\n",
      "2019\n",
      "192119\n",
      "2119\n",
      "192190\n",
      "2190\n",
      "192191\n",
      "2191\n",
      "192192\n",
      "2192\n",
      "192193\n",
      "2193\n",
      "192194\n",
      "2194\n",
      "192195\n",
      "2195\n",
      "192196\n",
      "2196\n",
      "192197\n",
      "2197\n",
      "192198\n",
      "2198\n",
      "192199\n",
      "2199\n",
      "192219\n",
      "2219\n",
      "192319\n",
      "2319\n",
      "192419\n",
      "2419\n",
      "192519\n",
      "2519\n",
      "192619\n",
      "2619\n",
      "192719\n",
      "2719\n",
      "192819\n",
      "2819\n",
      "192919\n",
      "2919\n",
      "193019\n",
      "3019\n",
      "193119\n",
      "3119\n",
      "193190\n",
      "3190\n",
      "193191\n",
      "3191\n",
      "193192\n",
      "3192\n",
      "193193\n",
      "3193\n",
      "193194\n",
      "3194\n",
      "193195\n",
      "3195\n",
      "193196\n",
      "3196\n",
      "193197\n",
      "3197\n",
      "193198\n",
      "3198\n",
      "193199\n",
      "3199\n",
      "193219\n",
      "3219\n",
      "193319\n",
      "3319\n",
      "193419\n",
      "3419\n",
      "193519\n",
      "3519\n",
      "193619\n",
      "3619\n",
      "193719\n",
      "3719\n",
      "193819\n",
      "3819\n",
      "193919\n",
      "3919\n",
      "194019\n",
      "4019\n",
      "194119\n",
      "4119\n",
      "194190\n",
      "4190\n",
      "194191\n",
      "4191\n",
      "194192\n",
      "4192\n",
      "194193\n",
      "4193\n",
      "194194\n",
      "4194\n",
      "194195\n",
      "4195\n",
      "194196\n",
      "4196\n",
      "194197\n",
      "4197\n",
      "194198\n",
      "4198\n",
      "194199\n",
      "4199\n",
      "194219\n",
      "4219\n",
      "194319\n",
      "4319\n",
      "194419\n",
      "4419\n",
      "194519\n",
      "4519\n",
      "194619\n",
      "4619\n",
      "194719\n",
      "4719\n",
      "194819\n",
      "4819\n",
      "194919\n",
      "4919\n",
      "195019\n",
      "5019\n",
      "195119\n",
      "5119\n",
      "195190\n",
      "5190\n",
      "195191\n",
      "5191\n",
      "195192\n",
      "5192\n",
      "195193\n",
      "5193\n",
      "195194\n",
      "5194\n",
      "195195\n",
      "5195\n",
      "195196\n",
      "5196\n",
      "195197\n",
      "5197\n",
      "195198\n",
      "5198\n",
      "195199\n",
      "5199\n",
      "195219\n",
      "5219\n",
      "195319\n",
      "5319\n",
      "195419\n",
      "5419\n",
      "195519\n",
      "5519\n",
      "195619\n",
      "5619\n",
      "195719\n",
      "5719\n",
      "195819\n",
      "5819\n",
      "195919\n",
      "5919\n",
      "196019\n",
      "6019\n",
      "196119\n",
      "6119\n",
      "196190\n",
      "6190\n",
      "196191\n",
      "6191\n",
      "196192\n",
      "6192\n",
      "196193\n",
      "6193\n",
      "196194\n",
      "6194\n",
      "196195\n",
      "6195\n",
      "196196\n",
      "6196\n",
      "196197\n",
      "6197\n",
      "196198\n",
      "6198\n",
      "196199\n",
      "6199\n",
      "196219\n",
      "6219\n",
      "196319\n",
      "6319\n",
      "196419\n",
      "6419\n",
      "196519\n",
      "6519\n",
      "196619\n",
      "6619\n",
      "196719\n",
      "6719\n",
      "196819\n",
      "6819\n",
      "196919\n",
      "6919\n",
      "197019\n",
      "7019\n",
      "197119\n",
      "7119\n",
      "197190\n",
      "7190\n",
      "197191\n",
      "7191\n",
      "197192\n",
      "7192\n",
      "197193\n",
      "7193\n",
      "197194\n",
      "7194\n",
      "197195\n",
      "7195\n",
      "197196\n",
      "7196\n",
      "197197\n",
      "7197\n",
      "197198\n",
      "7198\n",
      "197199\n",
      "7199\n",
      "197219\n",
      "7219\n",
      "197319\n",
      "7319\n",
      "197419\n",
      "7419\n",
      "197519\n",
      "7519\n",
      "197619\n",
      "7619\n",
      "197719\n",
      "7719\n",
      "197819\n",
      "7819\n",
      "197919\n",
      "7919\n",
      "198019\n",
      "8019\n",
      "198119\n",
      "8119\n",
      "198190\n",
      "8190\n",
      "198191\n",
      "8191\n",
      "198192\n",
      "8192\n",
      "198193\n",
      "8193\n",
      "198194\n",
      "8194\n",
      "198195\n",
      "8195\n",
      "198196\n",
      "8196\n",
      "198197\n",
      "8197\n",
      "198198\n",
      "8198\n",
      "198199\n",
      "8199\n",
      "198219\n",
      "8219\n",
      "198319\n",
      "8319\n",
      "198419\n",
      "8419\n",
      "198519\n",
      "8519\n",
      "198619\n",
      "8619\n",
      "198719\n",
      "8719\n",
      "198819\n",
      "8819\n",
      "198919\n",
      "8919\n",
      "199019\n",
      "9019\n",
      "199119\n",
      "9119\n",
      "199190\n",
      "9190\n",
      "199191\n",
      "9191\n",
      "199192\n",
      "9192\n",
      "199193\n",
      "9193\n",
      "199194\n",
      "9194\n",
      "199195\n",
      "9195\n",
      "199196\n",
      "9196\n",
      "199197\n",
      "9197\n",
      "199198\n",
      "9198\n",
      "199199\n",
      "9199\n",
      "199219\n",
      "9219\n",
      "199319\n",
      "9319\n",
      "199419\n",
      "9419\n",
      "199519\n",
      "9519\n",
      "199619\n",
      "9619\n",
      "199719\n",
      "9719\n",
      "199819\n",
      "9819\n",
      "199919\n",
      "9919\n",
      "201919\n",
      "19\n",
      "211919\n",
      "19\n",
      "219019\n",
      "019\n",
      "219119\n",
      "119\n",
      "219190\n",
      "190\n",
      "219191\n",
      "191\n",
      "219192\n",
      "192\n",
      "219193\n",
      "193\n",
      "219194\n",
      "194\n",
      "219195\n",
      "195\n",
      "219196\n",
      "196\n",
      "219197\n",
      "197\n",
      "219198\n",
      "198\n",
      "219199\n",
      "199\n",
      "219219\n",
      "219\n",
      "219319\n",
      "319\n",
      "219419\n",
      "419\n",
      "219519\n",
      "519\n",
      "219619\n",
      "619\n",
      "219719\n",
      "719\n",
      "219819\n",
      "819\n",
      "219919\n",
      "919\n",
      "221919\n",
      "19\n",
      "231919\n",
      "19\n",
      "241919\n",
      "19\n",
      "251919\n",
      "19\n",
      "261919\n",
      "19\n",
      "271919\n",
      "19\n",
      "281919\n",
      "19\n",
      "291919\n",
      "19\n",
      "301919\n",
      "19\n",
      "311919\n",
      "19\n",
      "319019\n",
      "019\n",
      "319119\n",
      "119\n",
      "319190\n",
      "190\n",
      "319191\n",
      "191\n",
      "319192\n",
      "192\n",
      "319193\n",
      "193\n",
      "319194\n",
      "194\n",
      "319195\n",
      "195\n",
      "319196\n",
      "196\n",
      "319197\n",
      "197\n",
      "319198\n",
      "198\n",
      "319199\n",
      "199\n",
      "319219\n",
      "219\n",
      "319319\n",
      "319\n",
      "319419\n",
      "419\n",
      "319519\n",
      "519\n",
      "319619\n",
      "619\n",
      "319719\n",
      "719\n",
      "319819\n",
      "819\n",
      "319919\n",
      "919\n",
      "321919\n",
      "19\n",
      "331919\n",
      "19\n",
      "341919\n",
      "19\n",
      "351919\n",
      "19\n",
      "361919\n",
      "19\n",
      "371919\n",
      "19\n",
      "381919\n",
      "19\n",
      "391919\n",
      "19\n",
      "401919\n",
      "19\n",
      "411919\n",
      "19\n",
      "419019\n",
      "019\n",
      "419119\n",
      "119\n",
      "419190\n",
      "190\n",
      "419191\n",
      "191\n",
      "419192\n",
      "192\n",
      "419193\n",
      "193\n",
      "419194\n",
      "194\n",
      "419195\n",
      "195\n",
      "419196\n",
      "196\n",
      "419197\n",
      "197\n",
      "419198\n",
      "198\n",
      "419199\n",
      "199\n",
      "419219\n",
      "219\n",
      "419319\n",
      "319\n",
      "419419\n",
      "419\n",
      "419519\n",
      "519\n",
      "419619\n",
      "619\n",
      "419719\n",
      "719\n",
      "419819\n",
      "819\n",
      "419919\n",
      "919\n",
      "421919\n",
      "19\n",
      "431919\n",
      "19\n",
      "441919\n",
      "19\n",
      "451919\n",
      "19\n",
      "461919\n",
      "19\n",
      "471919\n",
      "19\n",
      "481919\n",
      "19\n",
      "491919\n",
      "19\n",
      "501919\n",
      "19\n",
      "511919\n",
      "19\n",
      "519019\n",
      "019\n",
      "519119\n",
      "119\n",
      "519190\n",
      "190\n",
      "519191\n",
      "191\n",
      "519192\n",
      "192\n",
      "519193\n",
      "193\n",
      "519194\n",
      "194\n",
      "519195\n",
      "195\n",
      "519196\n",
      "196\n",
      "519197\n",
      "197\n",
      "519198\n",
      "198\n",
      "519199\n",
      "199\n",
      "519219\n",
      "219\n",
      "519319\n",
      "319\n",
      "519419\n",
      "419\n",
      "519519\n",
      "519\n",
      "519619\n",
      "619\n",
      "519719\n",
      "719\n",
      "519819\n",
      "819\n",
      "519919\n",
      "919\n",
      "521919\n",
      "19\n",
      "531919\n",
      "19\n",
      "541919\n",
      "19\n",
      "551919\n",
      "19\n",
      "561919\n",
      "19\n",
      "571919\n",
      "19\n",
      "581919\n",
      "19\n",
      "591919\n",
      "19\n",
      "601919\n",
      "19\n",
      "611919\n",
      "19\n",
      "619019\n",
      "019\n",
      "619119\n",
      "119\n",
      "619190\n",
      "190\n",
      "619191\n",
      "191\n",
      "619192\n",
      "192\n",
      "619193\n",
      "193\n",
      "619194\n",
      "194\n",
      "619195\n",
      "195\n",
      "619196\n",
      "196\n",
      "619197\n",
      "197\n",
      "619198\n",
      "198\n",
      "619199\n",
      "199\n",
      "619219\n",
      "219\n",
      "619319\n",
      "319\n",
      "619419\n",
      "419\n",
      "619519\n",
      "519\n",
      "619619\n",
      "619\n",
      "619719\n",
      "719\n",
      "619819\n",
      "819\n",
      "619919\n",
      "919\n",
      "621919\n",
      "19\n",
      "631919\n",
      "19\n",
      "641919\n",
      "19\n",
      "651919\n",
      "19\n",
      "661919\n",
      "19\n",
      "671919\n",
      "19\n",
      "681919\n",
      "19\n",
      "691919\n",
      "19\n",
      "701919\n",
      "19\n",
      "711919\n",
      "19\n",
      "719019\n",
      "019\n",
      "719119\n",
      "119\n",
      "719190\n",
      "190\n",
      "719191\n",
      "191\n",
      "719192\n",
      "192\n",
      "719193\n",
      "193\n",
      "719194\n",
      "194\n",
      "719195\n",
      "195\n",
      "719196\n",
      "196\n",
      "719197\n",
      "197\n",
      "719198\n",
      "198\n",
      "719199\n",
      "199\n",
      "719219\n",
      "219\n",
      "719319\n",
      "319\n",
      "719419\n",
      "419\n",
      "719519\n",
      "519\n",
      "719619\n",
      "619\n",
      "719719\n",
      "719\n",
      "719819\n",
      "819\n",
      "719919\n",
      "919\n",
      "721919\n",
      "19\n",
      "731919\n",
      "19\n",
      "741919\n",
      "19\n",
      "751919\n",
      "19\n",
      "761919\n",
      "19\n",
      "771919\n",
      "19\n",
      "781919\n",
      "19\n",
      "791919\n",
      "19\n",
      "801919\n",
      "19\n",
      "811919\n",
      "19\n",
      "819019\n",
      "019\n",
      "819119\n",
      "119\n",
      "819190\n",
      "190\n",
      "819191\n",
      "191\n",
      "819192\n",
      "192\n",
      "819193\n",
      "193\n",
      "819194\n",
      "194\n",
      "819195\n",
      "195\n",
      "819196\n",
      "196\n",
      "819197\n",
      "197\n",
      "819198\n",
      "198\n",
      "819199\n",
      "199\n",
      "819219\n",
      "219\n",
      "819319\n",
      "319\n",
      "819419\n",
      "419\n",
      "819519\n",
      "519\n",
      "819619\n",
      "619\n",
      "819719\n",
      "719\n",
      "819819\n",
      "819\n",
      "819919\n",
      "919\n",
      "821919\n",
      "19\n",
      "831919\n",
      "19\n",
      "841919\n",
      "19\n",
      "851919\n",
      "19\n",
      "861919\n",
      "19\n",
      "871919\n",
      "19\n",
      "881919\n",
      "19\n",
      "891919\n",
      "19\n",
      "901919\n",
      "19\n",
      "911919\n",
      "19\n",
      "919019\n",
      "019\n",
      "919119\n",
      "119\n",
      "919190\n",
      "190\n",
      "919191\n",
      "191\n",
      "919192\n",
      "192\n",
      "919193\n",
      "193\n",
      "919194\n",
      "194\n",
      "919195\n",
      "195\n",
      "919196\n",
      "196\n",
      "919197\n",
      "197\n",
      "919198\n",
      "198\n",
      "919199\n",
      "199\n",
      "919219\n",
      "219\n",
      "919319\n",
      "319\n",
      "919419\n",
      "419\n",
      "919519\n",
      "519\n",
      "919619\n",
      "619\n",
      "919719\n",
      "719\n",
      "919819\n",
      "819\n",
      "919919\n",
      "919\n",
      "921919\n",
      "19\n",
      "931919\n",
      "19\n",
      "941919\n",
      "19\n",
      "951919\n",
      "19\n",
      "961919\n",
      "19\n",
      "971919\n",
      "19\n",
      "981919\n",
      "19\n",
      "991919\n",
      "19\n"
     ]
    },
    {
     "data": {
      "text/plain": [
       "50000"
      ]
     },
     "execution_count": 4,
     "metadata": {},
     "output_type": "execute_result"
    }
   ],
   "source": [
    "def fast_item_counter(string_to_look_for = '19',\n",
    "                      list_to_look_in = range(1,1000001)):\n",
    "    item_count = 0 \n",
    "    # for every number in the list:\n",
    "    for i in list_to_look_in:\n",
    "        # if '19' is in that nunber:\n",
    "        if string_to_look_for in str(i):\n",
    "            # add to my count...\n",
    "            item_count +=1 \n",
    "            # Take the numbers after the instance of 19\n",
    "            # For example 1192 becomes 2)\n",
    "            item_split = str(i).split(string_to_look_for,1)[1]\n",
    "            # While '19' is in the split string:\n",
    "            while string_to_look_for in item_split: \n",
    "                print(i) # print that number...\n",
    "                print(item_split) # print the split too...\n",
    "                if string_to_look_for in item_split:\n",
    "                    # add to my count\n",
    "                    item_count +=1\n",
    "                    # Then split again!\n",
    "                    item_split = item_split.split(string_to_look_for,1)[1]\n",
    "\n",
    "          \n",
    "    return item_count\n",
    "fast_item_counter()"
   ]
  },
  {
   "cell_type": "markdown",
   "metadata": {},
   "source": [
    "<b><i>My numbers get split accordingly:</b></i> <br><br>\n",
    "**1919:** 19<br>\n",
    "**11919:** 19 <br>\n",
    "**19019:** 019 <br>\n",
    "**19119:** 119 <br>\n",
    "**19190:** 190 <br>\n",
    "**19191:** 191 <br>\n",
    "**19192:** 192"
   ]
  },
  {
   "cell_type": "markdown",
   "metadata": {},
   "source": [
    "## We want to test out our function:\n",
    "\n",
    "We'll cycle through the two numbers: 191,918 and 191,919.\n",
    "\n",
    "* Our function should split the first number into: 1918 <br>\n",
    "* Our function should split the second number into: 1919 and then 19<br>\n",
    "* **Our total count should be: 5**\n"
   ]
  },
  {
   "cell_type": "code",
   "execution_count": 5,
   "metadata": {},
   "outputs": [
    {
     "name": "stdout",
     "output_type": "stream",
     "text": [
      "191918\n",
      "1918\n",
      "191919\n",
      "1919\n",
      "191919\n",
      "19\n",
      "\n",
      "The number \"19\" was found a total of 5 times\n"
     ]
    }
   ],
   "source": [
    "z = fast_item_counter('19',range(191918,191920))\n",
    "print('\\nThe number \"19\" was found a total of {0} times'.format(z))"
   ]
  },
  {
   "cell_type": "markdown",
   "metadata": {},
   "source": [
    "Indeed, the function does as it should:\n",
    "* 191,918 was split once and counted twice\n",
    "* 191,919 was split twice and counted three times\n",
    "* **Total result was 5!**\n",
    "\n"
   ]
  },
  {
   "cell_type": "markdown",
   "metadata": {},
   "source": [
    "## Now that the testing is over, remove any \"print\" fields unnecessary to core execution of the function:"
   ]
  },
  {
   "cell_type": "code",
   "execution_count": 6,
   "metadata": {
    "code_folding": []
   },
   "outputs": [],
   "source": [
    "def fast_item_counter(string_to_look_for = 19,\n",
    "                      min_val = 0,\n",
    "                      max_val = 100001):\n",
    "    \n",
    "    if type(string_to_look_for) != str:\n",
    "        string_to_look_for = str(string_to_look_for)\n",
    "    \n",
    "    # Create that range!\n",
    "    range_look = range(min_val,max_val)\n",
    "\n",
    "    item_count = 0 \n",
    "    # for every number in the list:\n",
    "    for i in range_look:\n",
    "        # if '19' is in that nunber:\n",
    "        if string_to_look_for in str(i):\n",
    "            # add to my count...\n",
    "            item_count +=1 \n",
    "            # Take the numbers after the instance of 19\n",
    "            # For example 1192 becomes 2)\n",
    "            item_split = str(i).split(string_to_look_for,1)[1]\n",
    "            # While '19' is in the split string:\n",
    "            while string_to_look_for in item_split: \n",
    "                # No printing, only good hard results\n",
    "                if string_to_look_for in item_split:\n",
    "                    # add to my count\n",
    "                    item_count +=1\n",
    "                    # Then split again!\n",
    "                    item_split = item_split.split(string_to_look_for,1)[1]           \n",
    "    return item_count\n"
   ]
  },
  {
   "cell_type": "code",
   "execution_count": 7,
   "metadata": {},
   "outputs": [
    {
     "name": "stdout",
     "output_type": "stream",
     "text": [
      "Choose a number you want to count in Janie's painting job:\n",
      "10\n",
      "\n",
      "Janie paints 10 a total of 4001 times.\n",
      "When she paints 0 to 100001.\n"
     ]
    }
   ],
   "source": [
    "num_look_for = input('Choose a number you want to count in Janie\\'s painting job:\\n')\n",
    "#range_to_look_in = [int(x) for x in input('Choose the range you want to use:\\n').split(',')]\n",
    "# range(range_to_look_in[0],range_to_look_in[1]\n",
    "min_val = 0\n",
    "max_val = 100001\n",
    "count_value = fast_item_counter(num_look_for,min_val,max_val)\n",
    "    \n",
    "    \n",
    "####################################\n",
    "\n",
    "# Print your stuff: (The results)\n",
    "print('\\nJanie paints {0} a total of {1} times.\\nWhen she paints {2} to {3}.'.format(num_look_for,count_value,min_val, max_val))\n"
   ]
  },
  {
   "cell_type": "markdown",
   "metadata": {},
   "source": [
    "# Make Interactive!"
   ]
  },
  {
   "cell_type": "markdown",
   "metadata": {},
   "source": [
    "## Add your interactive elements"
   ]
  },
  {
   "cell_type": "code",
   "execution_count": 8,
   "metadata": {},
   "outputs": [],
   "source": [
    "import ipywidgets as widgets\n",
    "#from ipywidgets import interact,interactive,fixed,interact_manual\n",
    "import time\n",
    "\n",
    "#from ipywidgets import IntSlider, Accordion,Button,Checkbox,FloatRangeSlider,IntProgress,BoundedIntText, Dropdown\n",
    "from IPython.display import display"
   ]
  },
  {
   "cell_type": "code",
   "execution_count": 9,
   "metadata": {
    "code_folding": []
   },
   "outputs": [
    {
     "data": {
      "application/vnd.jupyter.widget-view+json": {
       "model_id": "ba88cf8ddf524ad481f4d37d9a306a5b",
       "version_major": 2,
       "version_minor": 0
      },
      "text/plain": [
       "IntSlider(value=0, continuous_update=False, description='First Number: ', max=9999, style=SliderStyle(handle_c…"
      ]
     },
     "metadata": {},
     "output_type": "display_data"
    }
   ],
   "source": [
    "min_slider = widgets.IntSlider(\n",
    "    value = 0,\n",
    "    min = 0,\n",
    "    max = 9999,\n",
    "    description = 'First Number: ',\n",
    "    # use stuff below\n",
    "    #style = {'handle_color': 'blue',\n",
    "    #        'alpha': '0.2'},\n",
    "    disabled = False,\n",
    "    continuous_update = False,\n",
    "    readout = True, # default\n",
    "    readout_format = 'd'\n",
    ")\n",
    "\n",
    "min_slider.style.handle_color = 'lightblue'\n",
    "\n",
    "def on_val_change(change):\n",
    "    time.sleep(0.1)\n",
    "    #print('New Value is: {0}\\n..................'.format(change['new']))\n",
    "\n",
    "min_slider.observe(on_val_change,\n",
    "               names = 'value')\n",
    "\n",
    "display(min_slider)"
   ]
  },
  {
   "cell_type": "code",
   "execution_count": 10,
   "metadata": {},
   "outputs": [
    {
     "data": {
      "application/vnd.jupyter.widget-view+json": {
       "model_id": "14beb2adfad4478081b673dab21689e4",
       "version_major": 2,
       "version_minor": 0
      },
      "text/plain": [
       "IntSlider(value=500000, continuous_update=False, description='Last Number: ', max=999999, min=1, style=SliderS…"
      ]
     },
     "metadata": {},
     "output_type": "display_data"
    }
   ],
   "source": [
    "max_slider = widgets.IntSlider(\n",
    "    value = 500000,\n",
    "    min = 1,\n",
    "    max = 999999,\n",
    "    description = 'Last Number: ',\n",
    "    # use stuff below\n",
    "    #style = {'handle_color': 'blue',\n",
    "    #        'alpha': '0.2'},\n",
    "    disabled = False,\n",
    "    continuous_update = False,\n",
    "    readout = True, # default\n",
    "    readout_format = 'd'\n",
    ")\n",
    "\n",
    "max_slider.style.handle_color = 'darkblue'\n",
    "\n",
    "max_slider.observe(on_val_change,\n",
    "               names = 'value')\n",
    "\n",
    "display(max_slider)"
   ]
  },
  {
   "cell_type": "code",
   "execution_count": 11,
   "metadata": {
    "code_folding": [
     1,
     13,
     17
    ]
   },
   "outputs": [
    {
     "data": {
      "application/vnd.jupyter.widget-view+json": {
       "model_id": "e800f2c1a999400bb353e71db81346ec",
       "version_major": 2,
       "version_minor": 0
      },
      "text/plain": [
       "FloatRangeSlider(value=(0.0, 10000.0), continuous_update=False, description='Your Range', max=10000.0, readout…"
      ]
     },
     "metadata": {},
     "output_type": "display_data"
    }
   ],
   "source": [
    "# Add a range slider\n",
    "range_slider = widgets.FloatRangeSlider(\n",
    "    value = [0,10000],\n",
    "    min = 0,\n",
    "    max = 10000,\n",
    "    step = 1,\n",
    "    description = 'Your Range',\n",
    "    disabled = False,\n",
    "    continuous_update = False,\n",
    "    readout = True, # default\n",
    "    readout_format = 'd'\n",
    ")\n",
    "\n",
    "def on_val_change(change):\n",
    "    time.sleep(0.1)\n",
    "    #print('New value: {}'.format(change['new']))\n",
    "\n",
    "range_slider.observe(on_val_change,\n",
    "               names = 'value')\n",
    "\n",
    "display(range_slider)"
   ]
  },
  {
   "cell_type": "code",
   "execution_count": 12,
   "metadata": {
    "code_folding": [
     0
    ]
   },
   "outputs": [
    {
     "data": {
      "application/vnd.jupyter.widget-view+json": {
       "model_id": "adb929f8bc0148119682f49f38350224",
       "version_major": 2,
       "version_minor": 0
      },
      "text/plain": [
       "BoundedIntText(value=2, description='Which number do you want to count?', max=9999999, style=DescriptionStyle(…"
      ]
     },
     "metadata": {},
     "output_type": "display_data"
    }
   ],
   "source": [
    "text_input = widgets.BoundedIntText(\n",
    "    value = str(2),\n",
    "    min = 0,\n",
    "    max = 9999999,\n",
    "    step = 1,\n",
    "    description = 'Which number do you want to count?',\n",
    "    style = {'description_width':'initial'},\n",
    "    disabled = False\n",
    ")\n",
    "\n",
    "\n",
    "text_input.observe(on_val_change,\n",
    "               names = 'value')\n",
    "display(text_input)"
   ]
  },
  {
   "cell_type": "code",
   "execution_count": 49,
   "metadata": {
    "code_folding": []
   },
   "outputs": [
    {
     "data": {
      "application/vnd.jupyter.widget-view+json": {
       "model_id": "989a3025f75d46ccbda6b42de0e4a46e",
       "version_major": 2,
       "version_minor": 0
      },
      "text/plain": [
       "BoundedIntText(value=1, description='What is the first number you paint?', max=9999999, style=DescriptionStyle…"
      ]
     },
     "metadata": {},
     "output_type": "display_data"
    }
   ],
   "source": [
    "min_val_input = widgets.BoundedIntText(\n",
    "    value = 1,\n",
    "    min = 0,\n",
    "    max = 9999999,\n",
    "    step = 1,\n",
    "    description = 'What is the first number you paint?',\n",
    "    style = {'description_width':'initial'},\n",
    "    disabled = False)\n",
    "\n",
    "min_val_input.observe(on_val_change,\n",
    "               names = 'value')\n",
    "\n",
    "display(min_val_input)"
   ]
  },
  {
   "cell_type": "code",
   "execution_count": 52,
   "metadata": {
    "code_folding": [
     0
    ]
   },
   "outputs": [
    {
     "data": {
      "application/vnd.jupyter.widget-view+json": {
       "model_id": "736e40eb45e2483db126791595c817b5",
       "version_major": 2,
       "version_minor": 0
      },
      "text/plain": [
       "BoundedIntText(value=10001, description='What is the last number you paint?', max=9999999, style=DescriptionSt…"
      ]
     },
     "metadata": {},
     "output_type": "display_data"
    }
   ],
   "source": [
    "max_val_input = widgets.BoundedIntText(\n",
    "    value = 10001,\n",
    "    min = 0,\n",
    "    max = 9999999,\n",
    "    step = 1,\n",
    "    description = 'What is the last number you paint?',\n",
    "    style = {'description_width':'initial'},\n",
    "    disabled = False\n",
    ")\n",
    "\n",
    "max_val_input.observe(on_val_change,\n",
    "               names = 'value')\n",
    "display(max_val_input)"
   ]
  },
  {
   "cell_type": "code",
   "execution_count": 97,
   "metadata": {
    "code_folding": [
     0
    ]
   },
   "outputs": [
    {
     "data": {
      "application/vnd.jupyter.widget-view+json": {
       "model_id": "b47c28a611624cdab891ad3e56bae5f9",
       "version_major": 2,
       "version_minor": 0
      },
      "text/plain": [
       "ToggleButton(value=False, button_style='warning', description='Clear Output', icon='magic', tooltip='Clear Out…"
      ]
     },
     "metadata": {},
     "output_type": "display_data"
    }
   ],
   "source": [
    "reset = widgets.ToggleButton(\n",
    "        value=False,\n",
    "        description='Clear Output',\n",
    "        disabled=False,\n",
    "        button_style='warning', # 'success', 'info', 'warning', 'danger' or ''\n",
    "        tooltip='Clear Output',\n",
    "        icon='magic')\n",
    "display(reset)"
   ]
  },
  {
   "cell_type": "markdown",
   "metadata": {},
   "source": [
    "## Add to interactive display"
   ]
  },
  {
   "cell_type": "code",
   "execution_count": 54,
   "metadata": {
    "code_folding": []
   },
   "outputs": [
    {
     "data": {
      "application/vnd.jupyter.widget-view+json": {
       "model_id": "bb10e0e538754186846f66509f1e714a",
       "version_major": 2,
       "version_minor": 0
      },
      "text/plain": [
       "interactive(children=(BoundedIntText(value=18, description='Which number do you want to count?', max=9999999, …"
      ]
     },
     "metadata": {},
     "output_type": "display_data"
    }
   ],
   "source": [
    "w = widgets.interact(fast_item_counter,\n",
    "             string_to_look_for=text_input,\n",
    "             min_val = min_val_input,\n",
    "             max_val = max_val_input,\n",
    "         continuous_update=True)\n",
    "\n",
    "#print(w.widget.result)\n"
   ]
  },
  {
   "cell_type": "code",
   "execution_count": 55,
   "metadata": {},
   "outputs": [
    {
     "name": "stdout",
     "output_type": "stream",
     "text": [
      "\n",
      "Janie paints '18' a total of 300 times\n",
      "When she paints 1 to 10001.\n"
     ]
    }
   ],
   "source": [
    "# Need to add this to the output thing!\n",
    "print('\\nJanie paints \\'{0}\\' a total of {1} times\\nWhen she paints {2} to {3}.'.format(\n",
    "    w.widget.kwargs['string_to_look_for'],\n",
    "    w.widget.result,\n",
    "    w.widget.kwargs['min_val'],\n",
    "    w.widget.kwargs['max_val']))"
   ]
  },
  {
   "cell_type": "code",
   "execution_count": 100,
   "metadata": {},
   "outputs": [],
   "source": [
    "out = widgets.Output(layout={'border':'1px solid black'})\n",
    "#out.clear_ouput()\n",
    "with out:\n",
    "    print('... Your Output ...')\n",
    "    display(w.widget)"
   ]
  },
  {
   "cell_type": "markdown",
   "metadata": {},
   "source": [
    "# Alternatively..."
   ]
  },
  {
   "cell_type": "code",
   "execution_count": 56,
   "metadata": {},
   "outputs": [],
   "source": [
    "def new_fast_item_counter(\n",
    "    string_to_look_for=5,\n",
    "    min_val = 1,\n",
    "    max_val = 100000):\n",
    "    x = fast_item_counter(string_to_look_for,min_val,max_val)\n",
    "    return print ('Janie paints \\'{0}\\' a total of {1} times\\nWhen she paints {2} to {3}.'.format(\n",
    "        string_to_look_for, x, min_val,max_val))\n",
    "    "
   ]
  },
  {
   "cell_type": "code",
   "execution_count": 57,
   "metadata": {},
   "outputs": [
    {
     "name": "stdout",
     "output_type": "stream",
     "text": [
      "Janie paints '51' a total of 4000 times\n",
      "When she paints 1 to 100000.\n"
     ]
    }
   ],
   "source": [
    "new_fast_item_counter(51)"
   ]
  },
  {
   "cell_type": "code",
   "execution_count": 58,
   "metadata": {},
   "outputs": [
    {
     "data": {
      "application/vnd.jupyter.widget-view+json": {
       "model_id": "0b68058465354f0eb6dabbad5257cddc",
       "version_major": 2,
       "version_minor": 0
      },
      "text/plain": [
       "interactive(children=(BoundedIntText(value=18, description='Which number do you want to count?', max=9999999, …"
      ]
     },
     "metadata": {},
     "output_type": "display_data"
    }
   ],
   "source": [
    "w = widgets.interact(new_fast_item_counter,\n",
    "             string_to_look_for=text_input,\n",
    "             min_val = min_val_input,\n",
    "             max_val = max_val_input,\n",
    "         continuous_update=True)"
   ]
  },
  {
   "cell_type": "code",
   "execution_count": 101,
   "metadata": {
    "code_folding": [
     0
    ]
   },
   "outputs": [],
   "source": [
    "def on_button_clicked(b):\n",
    "    if out:\n",
    "        out.clear_output()\n",
    "        with out:\n",
    "            print(\"Ouput reset.\")\n",
    "            if w.widget:\n",
    "                display(w.widget)\n",
    "\n",
    "reset.observe(on_button_clicked)    "
   ]
  },
  {
   "cell_type": "markdown",
   "metadata": {},
   "source": [
    "# Final Product!"
   ]
  },
  {
   "cell_type": "code",
   "execution_count": 103,
   "metadata": {},
   "outputs": [
    {
     "data": {
      "application/vnd.jupyter.widget-view+json": {
       "model_id": "b47c28a611624cdab891ad3e56bae5f9",
       "version_major": 2,
       "version_minor": 0
      },
      "text/plain": [
       "ToggleButton(value=True, button_style='warning', description='Clear Output', icon='magic', tooltip='Clear Outp…"
      ]
     },
     "metadata": {},
     "output_type": "display_data"
    },
    {
     "data": {
      "application/vnd.jupyter.widget-view+json": {
       "model_id": "77a755268e554f149bed493ad31acff4",
       "version_major": 2,
       "version_minor": 0
      },
      "text/plain": [
       "Output(layout=Layout(border='1px solid black'), outputs=({'output_type': 'stream', 'text': 'Ouput reset.\\n', '…"
      ]
     },
     "metadata": {},
     "output_type": "display_data"
    }
   ],
   "source": [
    "display(reset)\n",
    "display(out)"
   ]
  },
  {
   "cell_type": "markdown",
   "metadata": {},
   "source": [
    "# Interactiv as output"
   ]
  },
  {
   "cell_type": "code",
   "execution_count": 112,
   "metadata": {},
   "outputs": [],
   "source": [
    "from ipywidgets import IntSlider\n",
    "from ipywidgets.embed import embed_minimal_html\n",
    "slider = IntSlider(value=40)\n",
    "embed_minimal_html('export.html', views=[slider], title='Widgets export')"
   ]
  },
  {
   "cell_type": "code",
   "execution_count": 113,
   "metadata": {},
   "outputs": [],
   "source": [
    "embed_minimal_html('export 2.html', views=[out], title='Widgets export 2')"
   ]
  }
 ],
 "metadata": {
  "kernelspec": {
   "display_name": "Python 3",
   "language": "python",
   "name": "python3"
  },
  "language_info": {
   "codemirror_mode": {
    "name": "ipython",
    "version": 3
   },
   "file_extension": ".py",
   "mimetype": "text/x-python",
   "name": "python",
   "nbconvert_exporter": "python",
   "pygments_lexer": "ipython3",
   "version": "3.6.5"
  },
  "toc": {
   "base_numbering": 1,
   "nav_menu": {},
   "number_sections": true,
   "sideBar": true,
   "skip_h1_title": false,
   "title_cell": "Table of Contents",
   "title_sidebar": "Contents",
   "toc_cell": false,
   "toc_position": {},
   "toc_section_display": true,
   "toc_window_display": false
  },
  "widgets": {
   "application/vnd.jupyter.widget-state+json": {
    "state": {
     "03ab477e39894edda9fd46fc4a5b9eb8": {
      "model_module": "@jupyter-widgets/base",
      "model_module_version": "1.0.0",
      "model_name": "LayoutModel",
      "state": {
       "border": "1px solid black"
      }
     },
     "04add5d98b624c65b62f4376d85e277e": {
      "model_module": "@jupyter-widgets/controls",
      "model_module_version": "1.2.0",
      "model_name": "ToggleButtonModel",
      "state": {
       "button_style": "warning",
       "description": "Clear Output",
       "icon": "check",
       "layout": "IPY_MODEL_7b76eddc4d3a42eab9ed32114b50bb51",
       "style": "IPY_MODEL_996c8abf333443aba33af47942b2a146",
       "tooltip": "Description"
      }
     },
     "0772e1687fd54d46ac5f61dcbbf19bf0": {
      "model_module": "@jupyter-widgets/base",
      "model_module_version": "1.0.0",
      "model_name": "LayoutModel",
      "state": {}
     },
     "079fc953bd9c4ff1aa33bca4289165a7": {
      "model_module": "@jupyter-widgets/controls",
      "model_module_version": "1.2.0",
      "model_name": "SliderStyleModel",
      "state": {
       "description_width": ""
      }
     },
     "08692333368d424ba5bb26bce82647d1": {
      "model_module": "@jupyter-widgets/base",
      "model_module_version": "1.0.0",
      "model_name": "LayoutModel",
      "state": {}
     },
     "09f338b251f44749b32e419868a54174": {
      "model_module": "@jupyter-widgets/controls",
      "model_module_version": "1.2.0",
      "model_name": "DescriptionStyleModel",
      "state": {
       "description_width": "initial"
      }
     },
     "0a398fc38c8c4559a12d5e3a18e502d9": {
      "model_module": "@jupyter-widgets/controls",
      "model_module_version": "1.2.0",
      "model_name": "VBoxModel",
      "state": {
       "_dom_classes": [
        "widget-interact"
       ],
       "children": [
        "IPY_MODEL_adb929f8bc0148119682f49f38350224",
        "IPY_MODEL_ba88cf8ddf524ad481f4d37d9a306a5b",
        "IPY_MODEL_14beb2adfad4478081b673dab21689e4",
        "IPY_MODEL_ea35877777b941fcb64e40877343e0ff"
       ],
       "layout": "IPY_MODEL_3cd013b3878e48ff92448512231c44b6"
      }
     },
     "0a5c34743b8a4f76a308da0606eb7dfb": {
      "model_module": "@jupyter-widgets/controls",
      "model_module_version": "1.2.0",
      "model_name": "BoundedIntTextModel",
      "state": {
       "description": "What is the first number you paint?",
       "layout": "IPY_MODEL_87c39a0c3154486da844cd0136d86152",
       "max": 9999999,
       "style": "IPY_MODEL_95e0972d575a4e7e8e2b937a25aaa390",
       "value": 1
      }
     },
     "0b68058465354f0eb6dabbad5257cddc": {
      "model_module": "@jupyter-widgets/controls",
      "model_module_version": "1.2.0",
      "model_name": "VBoxModel",
      "state": {
       "_dom_classes": [
        "widget-interact"
       ],
       "children": [
        "IPY_MODEL_adb929f8bc0148119682f49f38350224",
        "IPY_MODEL_989a3025f75d46ccbda6b42de0e4a46e",
        "IPY_MODEL_736e40eb45e2483db126791595c817b5",
        "IPY_MODEL_23eaa4773c694bcbbb9448d4963db361"
       ],
       "layout": "IPY_MODEL_0772e1687fd54d46ac5f61dcbbf19bf0"
      }
     },
     "0c6b9ba842ab490fb39c76deb37a1c40": {
      "model_module": "@jupyter-widgets/base",
      "model_module_version": "1.0.0",
      "model_name": "LayoutModel",
      "state": {}
     },
     "0cb5ac0ec6cc4b60878fdff16f8e97ad": {
      "model_module": "@jupyter-widgets/controls",
      "model_module_version": "1.2.0",
      "model_name": "DescriptionStyleModel",
      "state": {
       "description_width": ""
      }
     },
     "0d8cb35c1f494d6caee70acf44b7fe73": {
      "model_module": "@jupyter-widgets/controls",
      "model_module_version": "1.2.0",
      "model_name": "IntSliderModel",
      "state": {
       "layout": "IPY_MODEL_75cd2e2395ef42d294d37c3b0afa461f",
       "style": "IPY_MODEL_079fc953bd9c4ff1aa33bca4289165a7",
       "value": 40
      }
     },
     "0f0a15c4ee6e4b2cb591f28653348797": {
      "model_module": "@jupyter-widgets/controls",
      "model_module_version": "1.2.0",
      "model_name": "ToggleButtonModel",
      "state": {
       "button_style": "warning",
       "description": "Clear Output",
       "icon": "magic",
       "layout": "IPY_MODEL_2f447cf35ad14dc58445bf6a81a7d68b",
       "style": "IPY_MODEL_427531d526264bfcab7933fbbaf4a4c9",
       "tooltip": "Something",
       "value": true
      }
     },
     "0ff5b689ebaf4757aa38378b5e5b42a5": {
      "model_module": "@jupyter-widgets/output",
      "model_module_version": "1.0.0",
      "model_name": "OutputModel",
      "state": {
       "layout": "IPY_MODEL_bc5f71e82ef3418b955f524b1585f247",
       "outputs": [
        {
         "data": {
          "text/plain": "301"
         },
         "metadata": {},
         "output_type": "display_data"
        }
       ]
      }
     },
     "108ca3936b5a4ce3b235d29fd498af65": {
      "model_module": "@jupyter-widgets/controls",
      "model_module_version": "1.2.0",
      "model_name": "DescriptionStyleModel",
      "state": {
       "description_width": ""
      }
     },
     "14beb2adfad4478081b673dab21689e4": {
      "model_module": "@jupyter-widgets/controls",
      "model_module_version": "1.2.0",
      "model_name": "IntSliderModel",
      "state": {
       "continuous_update": false,
       "description": "Last Number: ",
       "layout": "IPY_MODEL_08692333368d424ba5bb26bce82647d1",
       "max": 999999,
       "min": 1,
       "style": "IPY_MODEL_793a23717f7e4cdf83c18dea02ead005",
       "value": 500000
      }
     },
     "1669de5a304f47c4a5b152ea904d5498": {
      "model_module": "@jupyter-widgets/controls",
      "model_module_version": "1.2.0",
      "model_name": "VBoxModel",
      "state": {
       "_dom_classes": [
        "widget-interact"
       ],
       "children": [
        "IPY_MODEL_adb929f8bc0148119682f49f38350224",
        "IPY_MODEL_a4cc1ccbba69483c9f28d786ce38f928",
        "IPY_MODEL_8e3160678a6a494baa5e41426354db7d",
        "IPY_MODEL_0ff5b689ebaf4757aa38378b5e5b42a5"
       ],
       "layout": "IPY_MODEL_cb43bd8d03bd472388328f707706da74"
      }
     },
     "221cde1dd5584cffa82efb4a039d0a74": {
      "model_module": "@jupyter-widgets/controls",
      "model_module_version": "1.2.0",
      "model_name": "DescriptionStyleModel",
      "state": {
       "description_width": ""
      }
     },
     "2308240be0c24b55a9134e75f826e881": {
      "model_module": "@jupyter-widgets/base",
      "model_module_version": "1.0.0",
      "model_name": "LayoutModel",
      "state": {}
     },
     "23eaa4773c694bcbbb9448d4963db361": {
      "model_module": "@jupyter-widgets/output",
      "model_module_version": "1.0.0",
      "model_name": "OutputModel",
      "state": {
       "layout": "IPY_MODEL_8d7f0b9fa7a0423298968f555a981624",
       "outputs": [
        {
         "name": "stdout",
         "output_type": "stream",
         "text": "Janie paints '15' a total of 300 times\nWhen she paints 10 to 10001.\n"
        }
       ]
      }
     },
     "2b5a31def95845c29e05f855adfa566c": {
      "model_module": "@jupyter-widgets/base",
      "model_module_version": "1.0.0",
      "model_name": "LayoutModel",
      "state": {}
     },
     "2d809ff2d2f8493a978b4405120f3ee7": {
      "model_module": "@jupyter-widgets/base",
      "model_module_version": "1.0.0",
      "model_name": "LayoutModel",
      "state": {}
     },
     "2f447cf35ad14dc58445bf6a81a7d68b": {
      "model_module": "@jupyter-widgets/base",
      "model_module_version": "1.0.0",
      "model_name": "LayoutModel",
      "state": {}
     },
     "3165bf863b2b4077bfb912b22aca21f9": {
      "model_module": "@jupyter-widgets/controls",
      "model_module_version": "1.2.0",
      "model_name": "DescriptionStyleModel",
      "state": {
       "description_width": ""
      }
     },
     "33f4c472647844cf9c75c093c3a31a06": {
      "model_module": "@jupyter-widgets/controls",
      "model_module_version": "1.2.0",
      "model_name": "ToggleButtonModel",
      "state": {
       "description": "Click me",
       "icon": "check",
       "layout": "IPY_MODEL_cad15ce7747746b798f2e7ad33c973ee",
       "style": "IPY_MODEL_ce2d0014fd9b4e868f3c81734de41591",
       "tooltip": "Description"
      }
     },
     "3cd013b3878e48ff92448512231c44b6": {
      "model_module": "@jupyter-widgets/base",
      "model_module_version": "1.0.0",
      "model_name": "LayoutModel",
      "state": {}
     },
     "3cf4d3a65cc547d997d84f2258258bc2": {
      "model_module": "@jupyter-widgets/controls",
      "model_module_version": "1.2.0",
      "model_name": "ToggleButtonModel",
      "state": {
       "button_style": "warning",
       "description": "Clear Output",
       "icon": "magic",
       "layout": "IPY_MODEL_0c6b9ba842ab490fb39c76deb37a1c40",
       "style": "IPY_MODEL_221cde1dd5584cffa82efb4a039d0a74",
       "tooltip": "Clear Output",
       "value": true
      }
     },
     "3e2a97591bcf4e3ab02f12c893f28698": {
      "model_module": "@jupyter-widgets/base",
      "model_module_version": "1.0.0",
      "model_name": "LayoutModel",
      "state": {}
     },
     "3fbe9ab6cfa9429ab1bf8500c1cf5042": {
      "model_module": "@jupyter-widgets/controls",
      "model_module_version": "1.2.0",
      "model_name": "BoundedIntTextModel",
      "state": {
       "description": "What is the first number you paint?",
       "layout": "IPY_MODEL_ee9ce2e1351c4dc892a7a51f118b05be",
       "max": 9999999,
       "style": "IPY_MODEL_4c8d9a7cc65f4c6a99d8bf5a0e699254",
       "value": 1
      }
     },
     "40b1cba922414961ad5df021a1705fff": {
      "model_module": "@jupyter-widgets/controls",
      "model_module_version": "1.2.0",
      "model_name": "ToggleButtonModel",
      "state": {
       "button_style": "warning",
       "description": "Clear Output",
       "icon": "wand",
       "layout": "IPY_MODEL_a863f5a1b0e44d4e8e278f2eef16a306",
       "style": "IPY_MODEL_7f53552384634bdea307130ab8b98e27",
       "tooltip": "Description"
      }
     },
     "4210ad2a1d864bc7b857a9061cf2d7a0": {
      "model_module": "@jupyter-widgets/controls",
      "model_module_version": "1.2.0",
      "model_name": "SliderStyleModel",
      "state": {
       "description_width": ""
      }
     },
     "427531d526264bfcab7933fbbaf4a4c9": {
      "model_module": "@jupyter-widgets/controls",
      "model_module_version": "1.2.0",
      "model_name": "DescriptionStyleModel",
      "state": {
       "description_width": ""
      }
     },
     "463bc8995eee4df88dbb6f2bf8751b89": {
      "model_module": "@jupyter-widgets/base",
      "model_module_version": "1.0.0",
      "model_name": "LayoutModel",
      "state": {}
     },
     "4701adcb0bb04fff864262e50f1cca42": {
      "model_module": "@jupyter-widgets/base",
      "model_module_version": "1.0.0",
      "model_name": "LayoutModel",
      "state": {}
     },
     "47a1f341d09a43d99c28d9814360063d": {
      "model_module": "@jupyter-widgets/controls",
      "model_module_version": "1.2.0",
      "model_name": "ToggleButtonModel",
      "state": {
       "button_style": "warning",
       "description": "Clear Output",
       "disabled": true,
       "icon": "magic",
       "layout": "IPY_MODEL_95f24d90d45146f985460fb154f8352c",
       "style": "IPY_MODEL_4f4da8d0be1b4334a0bf895cc48ae28f",
       "tooltip": "Description"
      }
     },
     "48940270f50d480397867b651ded986f": {
      "model_module": "@jupyter-widgets/controls",
      "model_module_version": "1.2.0",
      "model_name": "DescriptionStyleModel",
      "state": {
       "description_width": ""
      }
     },
     "49148d6b8865446d99bcf0afb0bede5f": {
      "model_module": "@jupyter-widgets/base",
      "model_module_version": "1.0.0",
      "model_name": "LayoutModel",
      "state": {}
     },
     "49ccd50a45e749689e6021d03986066a": {
      "model_module": "@jupyter-widgets/base",
      "model_module_version": "1.0.0",
      "model_name": "LayoutModel",
      "state": {}
     },
     "4c8d9a7cc65f4c6a99d8bf5a0e699254": {
      "model_module": "@jupyter-widgets/controls",
      "model_module_version": "1.2.0",
      "model_name": "DescriptionStyleModel",
      "state": {
       "description_width": "initial"
      }
     },
     "4f4da8d0be1b4334a0bf895cc48ae28f": {
      "model_module": "@jupyter-widgets/controls",
      "model_module_version": "1.2.0",
      "model_name": "DescriptionStyleModel",
      "state": {
       "description_width": ""
      }
     },
     "5037cd8a5ba74c72907983c9d77b71cb": {
      "model_module": "@jupyter-widgets/base",
      "model_module_version": "1.0.0",
      "model_name": "LayoutModel",
      "state": {}
     },
     "5677a6efa62744ea995bf447309da20a": {
      "model_module": "@jupyter-widgets/output",
      "model_module_version": "1.0.0",
      "model_name": "OutputModel",
      "state": {
       "layout": "IPY_MODEL_da173748ecdb4c83a3448fc7d9828071",
       "outputs": [
        {
         "name": "stdout",
         "output_type": "stream",
         "text": "Janie paints '15' a total of 301 times\nWhen she paints 1 to 10025.\n"
        }
       ]
      }
     },
     "5791e65da16c4069835a1632882e61e2": {
      "model_module": "@jupyter-widgets/controls",
      "model_module_version": "1.2.0",
      "model_name": "VBoxModel",
      "state": {
       "_dom_classes": [
        "widget-interact"
       ],
       "children": [
        "IPY_MODEL_adb929f8bc0148119682f49f38350224",
        "IPY_MODEL_a4cc1ccbba69483c9f28d786ce38f928",
        "IPY_MODEL_8e3160678a6a494baa5e41426354db7d",
        "IPY_MODEL_5677a6efa62744ea995bf447309da20a"
       ],
       "layout": "IPY_MODEL_9cad5711ea2a48228f750362c797ad58"
      }
     },
     "57f19950d0c24f39ac17db670f9efc4c": {
      "model_module": "@jupyter-widgets/controls",
      "model_module_version": "1.2.0",
      "model_name": "DescriptionStyleModel",
      "state": {
       "description_width": ""
      }
     },
     "5a3d31f7deeb4453bb8fcb584733e465": {
      "model_module": "@jupyter-widgets/base",
      "model_module_version": "1.0.0",
      "model_name": "LayoutModel",
      "state": {}
     },
     "5b0b40fc7bec4939848474c772d1bdac": {
      "model_module": "@jupyter-widgets/base",
      "model_module_version": "1.0.0",
      "model_name": "LayoutModel",
      "state": {}
     },
     "5cface042dc84677b0201673b92e31ec": {
      "model_module": "@jupyter-widgets/base",
      "model_module_version": "1.0.0",
      "model_name": "LayoutModel",
      "state": {}
     },
     "5d5b0f055cc74e6297d9ce241233c906": {
      "model_module": "@jupyter-widgets/base",
      "model_module_version": "1.0.0",
      "model_name": "LayoutModel",
      "state": {}
     },
     "5f0a847fac7b4081a6b82812b12fd0f7": {
      "model_module": "@jupyter-widgets/controls",
      "model_module_version": "1.2.0",
      "model_name": "SliderStyleModel",
      "state": {
       "description_width": "",
       "handle_color": "lightblue"
      }
     },
     "6ada2f7624fa4f2a8f8996483c81d579": {
      "model_module": "@jupyter-widgets/output",
      "model_module_version": "1.0.0",
      "model_name": "OutputModel",
      "state": {
       "layout": "IPY_MODEL_2d809ff2d2f8493a978b4405120f3ee7",
       "outputs": [
        {
         "name": "stdout",
         "output_type": "stream",
         "text": "Janie paints '15' a total of 30000 times\nWhen she paints 0 to 500000.\n"
        }
       ]
      }
     },
     "6dd5518a3a834fb0b5207a449bb85243": {
      "model_module": "@jupyter-widgets/controls",
      "model_module_version": "1.2.0",
      "model_name": "VBoxModel",
      "state": {
       "_dom_classes": [
        "widget-interact"
       ],
       "children": [
        "IPY_MODEL_adb929f8bc0148119682f49f38350224",
        "IPY_MODEL_ba88cf8ddf524ad481f4d37d9a306a5b",
        "IPY_MODEL_14beb2adfad4478081b673dab21689e4",
        "IPY_MODEL_7cad0d4aace24e8faf19e32386a74496"
       ],
       "layout": "IPY_MODEL_5037cd8a5ba74c72907983c9d77b71cb"
      }
     },
     "736e40eb45e2483db126791595c817b5": {
      "model_module": "@jupyter-widgets/controls",
      "model_module_version": "1.2.0",
      "model_name": "BoundedIntTextModel",
      "state": {
       "description": "What is the last number you paint?",
       "layout": "IPY_MODEL_7eeaa2f01f654ea2a1d1b166108aa935",
       "max": 9999999,
       "style": "IPY_MODEL_bc16f14075574479b6db5eacdea8b68f",
       "value": 10001
      }
     },
     "73bc218315dc40a489786a9e2549233b": {
      "model_module": "@jupyter-widgets/controls",
      "model_module_version": "1.2.0",
      "model_name": "DescriptionStyleModel",
      "state": {
       "description_width": "initial"
      }
     },
     "75cd2e2395ef42d294d37c3b0afa461f": {
      "model_module": "@jupyter-widgets/base",
      "model_module_version": "1.0.0",
      "model_name": "LayoutModel",
      "state": {}
     },
     "75ec308911d34ffc8812550a31f2401a": {
      "model_module": "@jupyter-widgets/controls",
      "model_module_version": "1.2.0",
      "model_name": "ToggleButtonModel",
      "state": {
       "button_style": "warning",
       "description": "Clear Output",
       "icon": "magic",
       "layout": "IPY_MODEL_5b0b40fc7bec4939848474c772d1bdac",
       "style": "IPY_MODEL_e2cfd35c9aa94aadba8f38533c7895a7",
       "tooltip": "Clear Output",
       "value": true
      }
     },
     "77119db7a68445dc9a05fd4434df7b18": {
      "model_module": "@jupyter-widgets/controls",
      "model_module_version": "1.2.0",
      "model_name": "IntSliderModel",
      "state": {
       "layout": "IPY_MODEL_49148d6b8865446d99bcf0afb0bede5f",
       "style": "IPY_MODEL_4210ad2a1d864bc7b857a9061cf2d7a0",
       "value": 40
      }
     },
     "77a755268e554f149bed493ad31acff4": {
      "model_module": "@jupyter-widgets/output",
      "model_module_version": "1.0.0",
      "model_name": "OutputModel",
      "state": {
       "layout": "IPY_MODEL_e53461dac75042ddb434449f0c652461",
       "outputs": [
        {
         "name": "stdout",
         "output_type": "stream",
         "text": "Ouput reset.\n"
        },
        {
         "data": {
          "application/vnd.jupyter.widget-view+json": {
           "model_id": "0b68058465354f0eb6dabbad5257cddc",
           "version_major": 2,
           "version_minor": 0
          },
          "text/plain": "interactive(children=(BoundedIntText(value=15, description='Which number do you want to count?', max=9999999, …"
         },
         "metadata": {},
         "output_type": "display_data"
        }
       ]
      }
     },
     "793a23717f7e4cdf83c18dea02ead005": {
      "model_module": "@jupyter-widgets/controls",
      "model_module_version": "1.2.0",
      "model_name": "SliderStyleModel",
      "state": {
       "description_width": "",
       "handle_color": "darkblue"
      }
     },
     "7b76eddc4d3a42eab9ed32114b50bb51": {
      "model_module": "@jupyter-widgets/base",
      "model_module_version": "1.0.0",
      "model_name": "LayoutModel",
      "state": {}
     },
     "7cad0d4aace24e8faf19e32386a74496": {
      "model_module": "@jupyter-widgets/output",
      "model_module_version": "1.0.0",
      "model_name": "OutputModel",
      "state": {
       "layout": "IPY_MODEL_c30ecffacdb64bb6bf6321ad4bcae3e6",
       "outputs": [
        {
         "name": "stdout",
         "output_type": "stream",
         "text": "Janie paints '15' a total of 30000 times\nWhen she paints 0 to 500000.\n"
        }
       ]
      }
     },
     "7e14f613936e4504973dd77170977822": {
      "model_module": "@jupyter-widgets/base",
      "model_module_version": "1.0.0",
      "model_name": "LayoutModel",
      "state": {}
     },
     "7eeaa2f01f654ea2a1d1b166108aa935": {
      "model_module": "@jupyter-widgets/base",
      "model_module_version": "1.0.0",
      "model_name": "LayoutModel",
      "state": {}
     },
     "7f53552384634bdea307130ab8b98e27": {
      "model_module": "@jupyter-widgets/controls",
      "model_module_version": "1.2.0",
      "model_name": "DescriptionStyleModel",
      "state": {
       "description_width": ""
      }
     },
     "845adb546af947cc8647c79a030ff9a1": {
      "model_module": "@jupyter-widgets/base",
      "model_module_version": "1.0.0",
      "model_name": "LayoutModel",
      "state": {}
     },
     "87c39a0c3154486da844cd0136d86152": {
      "model_module": "@jupyter-widgets/base",
      "model_module_version": "1.0.0",
      "model_name": "LayoutModel",
      "state": {}
     },
     "88ddbff43a774adcb95ec8cdc47581fb": {
      "model_module": "@jupyter-widgets/controls",
      "model_module_version": "1.2.0",
      "model_name": "ToggleButtonModel",
      "state": {
       "description": "Click me",
       "icon": "check",
       "layout": "IPY_MODEL_4701adcb0bb04fff864262e50f1cca42",
       "style": "IPY_MODEL_0cb5ac0ec6cc4b60878fdff16f8e97ad",
       "tooltip": "Description",
       "value": true
      }
     },
     "8d1444c1b58c4a60a2a9ba4502ccb73a": {
      "model_module": "@jupyter-widgets/controls",
      "model_module_version": "1.2.0",
      "model_name": "ToggleButtonModel",
      "state": {
       "button_style": "warning",
       "description": "Clear Output",
       "icon": "magic",
       "layout": "IPY_MODEL_845adb546af947cc8647c79a030ff9a1",
       "style": "IPY_MODEL_108ca3936b5a4ce3b235d29fd498af65",
       "tooltip": "Description",
       "value": true
      }
     },
     "8d7f0b9fa7a0423298968f555a981624": {
      "model_module": "@jupyter-widgets/base",
      "model_module_version": "1.0.0",
      "model_name": "LayoutModel",
      "state": {}
     },
     "8e3160678a6a494baa5e41426354db7d": {
      "model_module": "@jupyter-widgets/controls",
      "model_module_version": "1.2.0",
      "model_name": "BoundedIntTextModel",
      "state": {
       "description": "What is the last number you paint?",
       "layout": "IPY_MODEL_2308240be0c24b55a9134e75f826e881",
       "max": 9999999,
       "style": "IPY_MODEL_09f338b251f44749b32e419868a54174",
       "value": 10025
      }
     },
     "8f20310480e24a01821a1c0d4cd39c76": {
      "model_module": "@jupyter-widgets/controls",
      "model_module_version": "1.2.0",
      "model_name": "ToggleButtonModel",
      "state": {
       "description": "Clear Output",
       "icon": "check",
       "layout": "IPY_MODEL_f386220f6bbf4286af7fb93e7e8a5a77",
       "style": "IPY_MODEL_3165bf863b2b4077bfb912b22aca21f9",
       "tooltip": "Description",
       "value": true
      }
     },
     "952d28a10284489f8af4de889761dbcf": {
      "model_module": "@jupyter-widgets/base",
      "model_module_version": "1.0.0",
      "model_name": "LayoutModel",
      "state": {}
     },
     "95e0972d575a4e7e8e2b937a25aaa390": {
      "model_module": "@jupyter-widgets/controls",
      "model_module_version": "1.2.0",
      "model_name": "DescriptionStyleModel",
      "state": {
       "description_width": "initial"
      }
     },
     "95f24d90d45146f985460fb154f8352c": {
      "model_module": "@jupyter-widgets/base",
      "model_module_version": "1.0.0",
      "model_name": "LayoutModel",
      "state": {}
     },
     "9621d275b27548adadae9f8a269d8110": {
      "model_module": "@jupyter-widgets/controls",
      "model_module_version": "1.2.0",
      "model_name": "ToggleButtonModel",
      "state": {
       "button_style": "success",
       "description": "Clear Output",
       "icon": "check",
       "layout": "IPY_MODEL_d0315f2d10424ec09cc686515b8bb996",
       "style": "IPY_MODEL_a3a4c36b51b9425292b071c14f2888b1",
       "tooltip": "Description"
      }
     },
     "96ae54ad7a0f40bda6ebd79f0b2bae97": {
      "model_module": "@jupyter-widgets/controls",
      "model_module_version": "1.2.0",
      "model_name": "DescriptionStyleModel",
      "state": {
       "description_width": "initial"
      }
     },
     "989a3025f75d46ccbda6b42de0e4a46e": {
      "model_module": "@jupyter-widgets/controls",
      "model_module_version": "1.2.0",
      "model_name": "BoundedIntTextModel",
      "state": {
       "description": "What is the first number you paint?",
       "layout": "IPY_MODEL_2b5a31def95845c29e05f855adfa566c",
       "max": 9999999,
       "style": "IPY_MODEL_96ae54ad7a0f40bda6ebd79f0b2bae97",
       "value": 10
      }
     },
     "98d1fd32597240378caf503da4a3a0d8": {
      "model_module": "@jupyter-widgets/output",
      "model_module_version": "1.0.0",
      "model_name": "OutputModel",
      "state": {
       "layout": "IPY_MODEL_463bc8995eee4df88dbb6f2bf8751b89",
       "outputs": [
        {
         "data": {
          "text/plain": "300"
         },
         "metadata": {},
         "output_type": "display_data"
        }
       ]
      }
     },
     "98da63e7242b4cd6a34050d457b40609": {
      "model_module": "@jupyter-widgets/base",
      "model_module_version": "1.0.0",
      "model_name": "LayoutModel",
      "state": {}
     },
     "996c8abf333443aba33af47942b2a146": {
      "model_module": "@jupyter-widgets/controls",
      "model_module_version": "1.2.0",
      "model_name": "DescriptionStyleModel",
      "state": {
       "description_width": ""
      }
     },
     "9cad5711ea2a48228f750362c797ad58": {
      "model_module": "@jupyter-widgets/base",
      "model_module_version": "1.0.0",
      "model_name": "LayoutModel",
      "state": {}
     },
     "9fb2488782e94f60a3a3a2faca4bce2e": {
      "model_module": "@jupyter-widgets/base",
      "model_module_version": "1.0.0",
      "model_name": "LayoutModel",
      "state": {}
     },
     "a3a4c36b51b9425292b071c14f2888b1": {
      "model_module": "@jupyter-widgets/controls",
      "model_module_version": "1.2.0",
      "model_name": "DescriptionStyleModel",
      "state": {
       "description_width": ""
      }
     },
     "a4cc1ccbba69483c9f28d786ce38f928": {
      "model_module": "@jupyter-widgets/controls",
      "model_module_version": "1.2.0",
      "model_name": "BoundedIntTextModel",
      "state": {
       "description": "What is the first number you paint?",
       "layout": "IPY_MODEL_5d5b0f055cc74e6297d9ce241233c906",
       "max": 9999999,
       "style": "IPY_MODEL_73bc218315dc40a489786a9e2549233b",
       "value": 1
      }
     },
     "a863f5a1b0e44d4e8e278f2eef16a306": {
      "model_module": "@jupyter-widgets/base",
      "model_module_version": "1.0.0",
      "model_name": "LayoutModel",
      "state": {}
     },
     "ab56db685f8d455a8472591d65106672": {
      "model_module": "@jupyter-widgets/controls",
      "model_module_version": "1.2.0",
      "model_name": "ToggleButtonModel",
      "state": {
       "button_style": "warning",
       "description": "Clear Output",
       "icon": "magic",
       "layout": "IPY_MODEL_3e2a97591bcf4e3ab02f12c893f28698",
       "style": "IPY_MODEL_f05b47e13a3d4e679a44d9d6ac8f19ea",
       "tooltip": "Clear Output"
      }
     },
     "adb929f8bc0148119682f49f38350224": {
      "model_module": "@jupyter-widgets/controls",
      "model_module_version": "1.2.0",
      "model_name": "BoundedIntTextModel",
      "state": {
       "description": "Which number do you want to count?",
       "layout": "IPY_MODEL_7e14f613936e4504973dd77170977822",
       "max": 9999999,
       "style": "IPY_MODEL_ae0deed87ce14da7b8024306558ade77",
       "value": 15
      }
     },
     "ae0deed87ce14da7b8024306558ade77": {
      "model_module": "@jupyter-widgets/controls",
      "model_module_version": "1.2.0",
      "model_name": "DescriptionStyleModel",
      "state": {
       "description_width": "initial"
      }
     },
     "b2fd73fe3f5a41a3a81c5f4293d18e94": {
      "model_module": "@jupyter-widgets/controls",
      "model_module_version": "1.2.0",
      "model_name": "VBoxModel",
      "state": {
       "_dom_classes": [
        "widget-interact"
       ],
       "children": [
        "IPY_MODEL_adb929f8bc0148119682f49f38350224",
        "IPY_MODEL_a4cc1ccbba69483c9f28d786ce38f928",
        "IPY_MODEL_8e3160678a6a494baa5e41426354db7d",
        "IPY_MODEL_c81aadfa88f24e4dabefd528d612b74b"
       ],
       "layout": "IPY_MODEL_98da63e7242b4cd6a34050d457b40609"
      }
     },
     "b47c28a611624cdab891ad3e56bae5f9": {
      "model_module": "@jupyter-widgets/controls",
      "model_module_version": "1.2.0",
      "model_name": "ToggleButtonModel",
      "state": {
       "button_style": "warning",
       "description": "Clear Output",
       "icon": "magic",
       "layout": "IPY_MODEL_ff1de5bf92f24dd5802fbc39299628fe",
       "style": "IPY_MODEL_f96ea83595ad49548828b24192166e72",
       "tooltip": "Clear Output",
       "value": true
      }
     },
     "ba88cf8ddf524ad481f4d37d9a306a5b": {
      "model_module": "@jupyter-widgets/controls",
      "model_module_version": "1.2.0",
      "model_name": "IntSliderModel",
      "state": {
       "continuous_update": false,
       "description": "First Number: ",
       "layout": "IPY_MODEL_5cface042dc84677b0201673b92e31ec",
       "max": 9999,
       "style": "IPY_MODEL_5f0a847fac7b4081a6b82812b12fd0f7"
      }
     },
     "bb10e0e538754186846f66509f1e714a": {
      "model_module": "@jupyter-widgets/controls",
      "model_module_version": "1.2.0",
      "model_name": "VBoxModel",
      "state": {
       "_dom_classes": [
        "widget-interact"
       ],
       "children": [
        "IPY_MODEL_adb929f8bc0148119682f49f38350224",
        "IPY_MODEL_989a3025f75d46ccbda6b42de0e4a46e",
        "IPY_MODEL_736e40eb45e2483db126791595c817b5",
        "IPY_MODEL_98d1fd32597240378caf503da4a3a0d8"
       ],
       "layout": "IPY_MODEL_bc55671ecc714f05b8119589fbcd44dc"
      }
     },
     "bbbbb5b93557416b8b5992fae40c2909": {
      "model_module": "@jupyter-widgets/output",
      "model_module_version": "1.0.0",
      "model_name": "OutputModel",
      "state": {
       "layout": "IPY_MODEL_03ab477e39894edda9fd46fc4a5b9eb8",
       "outputs": [
        {
         "name": "stdout",
         "output_type": "stream",
         "text": "... Your Output ...\n"
        },
        {
         "data": {
          "application/vnd.jupyter.widget-view+json": {
           "model_id": "0a398fc38c8c4559a12d5e3a18e502d9",
           "version_major": 2,
           "version_minor": 0
          },
          "text/plain": "interactive(children=(BoundedIntText(value=2, description='Which number do you want to count?', max=9999999, s…"
         },
         "metadata": {},
         "output_type": "display_data"
        },
        {
         "data": {
          "application/vnd.jupyter.widget-view+json": {
           "model_id": "fd0584b5ed364af9950b74fabaf9e7db",
           "version_major": 2,
           "version_minor": 0
          },
          "text/plain": "interactive(children=(BoundedIntText(value=2, description='Which number do you want to count?', max=9999999, s…"
         },
         "metadata": {},
         "output_type": "display_data"
        }
       ]
      }
     },
     "bc16f14075574479b6db5eacdea8b68f": {
      "model_module": "@jupyter-widgets/controls",
      "model_module_version": "1.2.0",
      "model_name": "DescriptionStyleModel",
      "state": {
       "description_width": "initial"
      }
     },
     "bc55671ecc714f05b8119589fbcd44dc": {
      "model_module": "@jupyter-widgets/base",
      "model_module_version": "1.0.0",
      "model_name": "LayoutModel",
      "state": {}
     },
     "bc5f71e82ef3418b955f524b1585f247": {
      "model_module": "@jupyter-widgets/base",
      "model_module_version": "1.0.0",
      "model_name": "LayoutModel",
      "state": {}
     },
     "bcb65c04932644cda4a13d03302f1a97": {
      "model_module": "@jupyter-widgets/base",
      "model_module_version": "1.0.0",
      "model_name": "LayoutModel",
      "state": {
       "border": "1px solid black"
      }
     },
     "bcbc7e8bc2364f8fbff0d251ab8b79b9": {
      "model_module": "@jupyter-widgets/controls",
      "model_module_version": "1.2.0",
      "model_name": "SliderStyleModel",
      "state": {
       "description_width": ""
      }
     },
     "c30ecffacdb64bb6bf6321ad4bcae3e6": {
      "model_module": "@jupyter-widgets/base",
      "model_module_version": "1.0.0",
      "model_name": "LayoutModel",
      "state": {}
     },
     "c42ef9fe283744779e39bd8e61e2cfd4": {
      "model_module": "@jupyter-widgets/output",
      "model_module_version": "1.0.0",
      "model_name": "OutputModel",
      "state": {
       "layout": "IPY_MODEL_bcb65c04932644cda4a13d03302f1a97",
       "outputs": [
        {
         "name": "stdout",
         "output_type": "stream",
         "text": "Ouput reset.\n"
        },
        {
         "data": {
          "application/vnd.jupyter.widget-view+json": {
           "model_id": "0b68058465354f0eb6dabbad5257cddc",
           "version_major": 2,
           "version_minor": 0
          },
          "text/plain": "interactive(children=(BoundedIntText(value=15, description='Which number do you want to count?', max=9999999, …"
         },
         "metadata": {},
         "output_type": "display_data"
        }
       ]
      }
     },
     "c81aadfa88f24e4dabefd528d612b74b": {
      "model_module": "@jupyter-widgets/output",
      "model_module_version": "1.0.0",
      "model_name": "OutputModel",
      "state": {
       "layout": "IPY_MODEL_9fb2488782e94f60a3a3a2faca4bce2e",
       "outputs": [
        {
         "data": {
          "text/plain": "301"
         },
         "metadata": {},
         "output_type": "display_data"
        }
       ]
      }
     },
     "cad15ce7747746b798f2e7ad33c973ee": {
      "model_module": "@jupyter-widgets/base",
      "model_module_version": "1.0.0",
      "model_name": "LayoutModel",
      "state": {}
     },
     "cb43bd8d03bd472388328f707706da74": {
      "model_module": "@jupyter-widgets/base",
      "model_module_version": "1.0.0",
      "model_name": "LayoutModel",
      "state": {}
     },
     "cb886650309344b0ac319e29a06f4d40": {
      "model_module": "@jupyter-widgets/controls",
      "model_module_version": "1.2.0",
      "model_name": "DescriptionStyleModel",
      "state": {
       "description_width": ""
      }
     },
     "ce2d0014fd9b4e868f3c81734de41591": {
      "model_module": "@jupyter-widgets/controls",
      "model_module_version": "1.2.0",
      "model_name": "DescriptionStyleModel",
      "state": {
       "description_width": ""
      }
     },
     "cf0cc99b05e44e9b8bd055ef25058805": {
      "model_module": "@jupyter-widgets/controls",
      "model_module_version": "1.2.0",
      "model_name": "ToggleButtonModel",
      "state": {
       "button_style": "warning",
       "description": "Clear Output",
       "icon": "magic",
       "layout": "IPY_MODEL_952d28a10284489f8af4de889761dbcf",
       "style": "IPY_MODEL_cb886650309344b0ac319e29a06f4d40",
       "tooltip": "Clear Output"
      }
     },
     "d0315f2d10424ec09cc686515b8bb996": {
      "model_module": "@jupyter-widgets/base",
      "model_module_version": "1.0.0",
      "model_name": "LayoutModel",
      "state": {}
     },
     "d14a0a5ff7ca4768b226a413eb29302e": {
      "model_module": "@jupyter-widgets/base",
      "model_module_version": "1.0.0",
      "model_name": "LayoutModel",
      "state": {}
     },
     "d588b19bd7204382ac032ecddaafc6cc": {
      "model_module": "@jupyter-widgets/controls",
      "model_module_version": "1.2.0",
      "model_name": "DescriptionStyleModel",
      "state": {
       "description_width": "initial"
      }
     },
     "d7eb021312c5469799a2626a47b75bce": {
      "model_module": "@jupyter-widgets/controls",
      "model_module_version": "1.2.0",
      "model_name": "ToggleButtonModel",
      "state": {
       "button_style": "warning",
       "description": "Clear Output",
       "icon": "magic",
       "layout": "IPY_MODEL_d14a0a5ff7ca4768b226a413eb29302e",
       "style": "IPY_MODEL_48940270f50d480397867b651ded986f",
       "tooltip": "Clear Output"
      }
     },
     "d88d878c89e9420f99c56435834483ed": {
      "model_module": "@jupyter-widgets/controls",
      "model_module_version": "1.2.0",
      "model_name": "BoundedIntTextModel",
      "state": {
       "description": "What is the first number you paint?",
       "layout": "IPY_MODEL_dd4f56789b084e75a8897a87cbdd1483",
       "max": 9999999,
       "style": "IPY_MODEL_d588b19bd7204382ac032ecddaafc6cc",
       "value": 1
      }
     },
     "da173748ecdb4c83a3448fc7d9828071": {
      "model_module": "@jupyter-widgets/base",
      "model_module_version": "1.0.0",
      "model_name": "LayoutModel",
      "state": {}
     },
     "dd4f56789b084e75a8897a87cbdd1483": {
      "model_module": "@jupyter-widgets/base",
      "model_module_version": "1.0.0",
      "model_name": "LayoutModel",
      "state": {}
     },
     "e2cfd35c9aa94aadba8f38533c7895a7": {
      "model_module": "@jupyter-widgets/controls",
      "model_module_version": "1.2.0",
      "model_name": "DescriptionStyleModel",
      "state": {
       "description_width": ""
      }
     },
     "e53461dac75042ddb434449f0c652461": {
      "model_module": "@jupyter-widgets/base",
      "model_module_version": "1.0.0",
      "model_name": "LayoutModel",
      "state": {
       "border": "1px solid black"
      }
     },
     "e75f4f288cf9421fbb80ed713c69cf0d": {
      "model_module": "@jupyter-widgets/base",
      "model_module_version": "1.0.0",
      "model_name": "LayoutModel",
      "state": {}
     },
     "e800f2c1a999400bb353e71db81346ec": {
      "model_module": "@jupyter-widgets/controls",
      "model_module_version": "1.2.0",
      "model_name": "FloatRangeSliderModel",
      "state": {
       "_model_name": "FloatRangeSliderModel",
       "_view_name": "FloatRangeSliderView",
       "continuous_update": false,
       "description": "Your Range",
       "layout": "IPY_MODEL_f683c63594d6439c85cdcb1afc280002",
       "max": 10000,
       "readout_format": "d",
       "style": "IPY_MODEL_bcbc7e8bc2364f8fbff0d251ab8b79b9",
       "value": [
        0,
        10000
       ]
      }
     },
     "ea35877777b941fcb64e40877343e0ff": {
      "model_module": "@jupyter-widgets/output",
      "model_module_version": "1.0.0",
      "model_name": "OutputModel",
      "state": {
       "layout": "IPY_MODEL_e75f4f288cf9421fbb80ed713c69cf0d",
       "outputs": [
        {
         "data": {
          "text/plain": "30000"
         },
         "metadata": {},
         "output_type": "display_data"
        }
       ]
      }
     },
     "ee9ce2e1351c4dc892a7a51f118b05be": {
      "model_module": "@jupyter-widgets/base",
      "model_module_version": "1.0.0",
      "model_name": "LayoutModel",
      "state": {}
     },
     "f05b47e13a3d4e679a44d9d6ac8f19ea": {
      "model_module": "@jupyter-widgets/controls",
      "model_module_version": "1.2.0",
      "model_name": "DescriptionStyleModel",
      "state": {
       "description_width": ""
      }
     },
     "f386220f6bbf4286af7fb93e7e8a5a77": {
      "model_module": "@jupyter-widgets/base",
      "model_module_version": "1.0.0",
      "model_name": "LayoutModel",
      "state": {}
     },
     "f683c63594d6439c85cdcb1afc280002": {
      "model_module": "@jupyter-widgets/base",
      "model_module_version": "1.0.0",
      "model_name": "LayoutModel",
      "state": {}
     },
     "f94a24ebddad4a62b9d6f7700c2fdf1b": {
      "model_module": "@jupyter-widgets/controls",
      "model_module_version": "1.2.0",
      "model_name": "ToggleButtonModel",
      "state": {
       "button_style": "warning",
       "description": "Clear Output",
       "icon": "magic",
       "layout": "IPY_MODEL_49ccd50a45e749689e6021d03986066a",
       "style": "IPY_MODEL_57f19950d0c24f39ac17db670f9efc4c",
       "tooltip": "Clear Output"
      }
     },
     "f96ea83595ad49548828b24192166e72": {
      "model_module": "@jupyter-widgets/controls",
      "model_module_version": "1.2.0",
      "model_name": "DescriptionStyleModel",
      "state": {
       "description_width": ""
      }
     },
     "fd0584b5ed364af9950b74fabaf9e7db": {
      "model_module": "@jupyter-widgets/controls",
      "model_module_version": "1.2.0",
      "model_name": "VBoxModel",
      "state": {
       "_dom_classes": [
        "widget-interact"
       ],
       "children": [
        "IPY_MODEL_adb929f8bc0148119682f49f38350224",
        "IPY_MODEL_ba88cf8ddf524ad481f4d37d9a306a5b",
        "IPY_MODEL_14beb2adfad4478081b673dab21689e4",
        "IPY_MODEL_6ada2f7624fa4f2a8f8996483c81d579"
       ],
       "layout": "IPY_MODEL_5a3d31f7deeb4453bb8fcb584733e465"
      }
     },
     "ff1de5bf92f24dd5802fbc39299628fe": {
      "model_module": "@jupyter-widgets/base",
      "model_module_version": "1.0.0",
      "model_name": "LayoutModel",
      "state": {}
     }
    },
    "version_major": 2,
    "version_minor": 0
   }
  }
 },
 "nbformat": 4,
 "nbformat_minor": 2
}
